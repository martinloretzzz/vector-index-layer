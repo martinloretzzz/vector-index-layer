{
  "cells": [
    {
      "cell_type": "markdown",
      "metadata": {
        "id": "view-in-github",
        "colab_type": "text"
      },
      "source": [
        "<a href=\"https://colab.research.google.com/github/martinloretzzz/vector-index-layer/blob/main/GPTVectorIndexOnOutEmbedding.ipynb\" target=\"_parent\"><img src=\"https://colab.research.google.com/assets/colab-badge.svg\" alt=\"Open In Colab\"/></a>"
      ]
    },
    {
      "cell_type": "code",
      "execution_count": 21,
      "metadata": {
        "id": "m9Fv-bjlx8Ot"
      },
      "outputs": [],
      "source": [
        "from transformers import AutoModelForCausalLM, AutoTokenizer\n",
        "import torch\n",
        "import torch.nn.functional as F\n",
        "import matplotlib.pyplot as plt\n",
        "from sklearn.cluster import BisectingKMeans"
      ]
    },
    {
      "cell_type": "code",
      "execution_count": 22,
      "metadata": {
        "colab": {
          "base_uri": "https://localhost:8080/"
        },
        "id": "a60r2gddzutA",
        "outputId": "60722965-cee3-4575-ba08-6c2015a2dfba"
      },
      "outputs": [
        {
          "output_type": "stream",
          "name": "stderr",
          "text": [
            "The attention mask and the pad token id were not set. As a consequence, you may observe unexpected behavior. Please pass your input's `attention_mask` to obtain reliable results.\n",
            "Setting `pad_token_id` to `eos_token_id`:None for open-end generation.\n"
          ]
        },
        {
          "output_type": "stream",
          "name": "stdout",
          "text": [
            "The quick brown foxes are a great way to get a little bit of a kick out of your dog.\n",
            "\n",
            "The quick brown foxes are a great way to get a little bit of a kick out of your dog. The quick brown fox\n"
          ]
        }
      ],
      "source": [
        "model_name = \"gpt2\"\n",
        "model = AutoModelForCausalLM.from_pretrained(model_name)\n",
        "tokenizer = AutoTokenizer.from_pretrained(model_name)\n",
        "\n",
        "input_text = \"The quick brown fox\"\n",
        "input_ids = tokenizer(input_text, return_tensors=\"pt\").input_ids\n",
        "\n",
        "output = model.generate(\n",
        "    input_ids,\n",
        "    max_length=50,\n",
        "    return_dict_in_generate=True,\n",
        "    output_hidden_states=True,\n",
        "    output_scores=True,\n",
        "    output_logits=True\n",
        ")\n",
        "\n",
        "gen_tokens = output.sequences\n",
        "\n",
        "gen_text = tokenizer.batch_decode(gen_tokens)[0]\n",
        "print(gen_text)"
      ]
    },
    {
      "cell_type": "code",
      "execution_count": 23,
      "metadata": {
        "colab": {
          "base_uri": "https://localhost:8080/"
        },
        "id": "9lh9EoUL5Dul",
        "outputId": "88688dd9-b56e-48a2-d313-9261b5758750"
      },
      "outputs": [
        {
          "output_type": "stream",
          "name": "stdout",
          "text": [
            "46 46 13\n",
            "torch.Size([1, 768])\n",
            "torch.Size([1, 50257])\n"
          ]
        }
      ],
      "source": [
        "pos = 6\n",
        "\n",
        "hidden = output.hidden_states\n",
        "logits = output.logits\n",
        "\n",
        "last_hidden = hidden[pos][-1].squeeze(0)\n",
        "last_logits = logits[pos]\n",
        "\n",
        "print(len(hidden), len(logits), len(hidden[pos]))\n",
        "print(last_hidden.shape)\n",
        "print(last_logits.shape)"
      ]
    },
    {
      "cell_type": "code",
      "execution_count": 24,
      "metadata": {
        "colab": {
          "base_uri": "https://localhost:8080/"
        },
        "id": "u-Kjdgsw67qz",
        "outputId": "8017a7c8-db62-4bf3-e13f-df2f1682e26e"
      },
      "outputs": [
        {
          "output_type": "stream",
          "name": "stdout",
          "text": [
            "tensor([[0.1144, 0.0270, 0.0261, 0.0240, 0.0220, 0.0218, 0.0163, 0.0146, 0.0145,\n",
            "         0.0145, 0.0118, 0.0114, 0.0100, 0.0096, 0.0085, 0.0084, 0.0083, 0.0079,\n",
            "         0.0079, 0.0077, 0.0077, 0.0070, 0.0069, 0.0066, 0.0065, 0.0059, 0.0056,\n",
            "         0.0055, 0.0055, 0.0052, 0.0050, 0.0049, 0.0047, 0.0045, 0.0044, 0.0042,\n",
            "         0.0041, 0.0041, 0.0041, 0.0040, 0.0040, 0.0038, 0.0038, 0.0038, 0.0037,\n",
            "         0.0036, 0.0036, 0.0036, 0.0035, 0.0034]])\n",
            "tensor([[  651,  1394,   905, 10400,   787,  4929,   923,   751,  8006,   766,\n",
            "          1494,  1064,   423,  2193,  2222,  1011,  4545,  3613,  4729,  1037,\n",
            "          1577,  2952,  1332,  4483,  3368,  3745,  1234,  1949,  1805,   467,\n",
            "           779,  6654,   804,  4829,  4341,  2883, 19437,  5298,   886, 20528,\n",
            "          2620,  2251,  1826,  7808,  8335,   711,  2245, 14947,  4512,  5911]])\n"
          ]
        }
      ],
      "source": [
        "k = 50\n",
        "\n",
        "topk_values, topk_indices = torch.topk(F.softmax(last_logits, dim=-1), k)\n",
        "print(topk_values)\n",
        "print(topk_indices)"
      ]
    },
    {
      "cell_type": "code",
      "execution_count": 25,
      "metadata": {
        "colab": {
          "base_uri": "https://localhost:8080/"
        },
        "id": "x1JGeYQG2K-n",
        "outputId": "7a0df16d-3912-4e43-f3b5-9e5829456d4b"
      },
      "outputs": [
        {
          "output_type": "execute_result",
          "data": {
            "text/plain": [
              "torch.Size([50257, 768])"
            ]
          },
          "metadata": {},
          "execution_count": 25
        }
      ],
      "source": [
        "out_emb_weight = model.transformer.wte.weight.detach().clone()\n",
        "out_emb_weight.shape"
      ]
    },
    {
      "cell_type": "code",
      "source": [
        "ncentroids = 2048\n",
        "niter = 20\n",
        "\n",
        "max_cluster_size = 32\n",
        "nsearch = 32"
      ],
      "metadata": {
        "id": "xlDBSvC11m_s"
      },
      "execution_count": 26,
      "outputs": []
    },
    {
      "cell_type": "code",
      "source": [
        "# TODO: Inner product distance, normalize?\n",
        "bkmeans = BisectingKMeans(n_clusters=ncentroids, random_state=42)\n",
        "labels = torch.from_numpy(bkmeans.fit_predict(out_emb_weight))\n",
        "centroids = torch.from_numpy(bkmeans.cluster_centers_).to(torch.float32)\n",
        "\n",
        "centroids.shape"
      ],
      "metadata": {
        "colab": {
          "base_uri": "https://localhost:8080/"
        },
        "id": "-ixePG0gL83e",
        "outputId": "0dead70a-5d16-4ab4-bd54-a59dd946f191"
      },
      "execution_count": 27,
      "outputs": [
        {
          "output_type": "execute_result",
          "data": {
            "text/plain": [
              "torch.Size([2048, 768])"
            ]
          },
          "metadata": {},
          "execution_count": 27
        }
      ]
    },
    {
      "cell_type": "code",
      "source": [
        "# TODO run kmeans inside cluster to get more specific centroids\n",
        "def limit_cluster_to_size(labels, centroids, max_cluster_size):\n",
        "    n_labels, n_centorids = [], []\n",
        "    new_clusters, new_clusters_count = {}, {}\n",
        "\n",
        "    for l in labels.tolist():\n",
        "        if l not in new_clusters or new_clusters_count[l] >= max_cluster_size:\n",
        "            new_cluster = len(n_centorids)\n",
        "            n_centorids.append(centroids[l])\n",
        "            new_clusters[l] = new_cluster\n",
        "            new_clusters_count[l] = 0\n",
        "\n",
        "        n_labels.append(new_clusters[l])\n",
        "        new_clusters_count[l] += 1\n",
        "\n",
        "    return torch.tensor(n_labels, dtype=torch.int32), torch.stack(n_centorids)\n",
        "\n",
        "n_labels, n_centorids = limit_cluster_to_size(labels, centroids, max_cluster_size)"
      ],
      "metadata": {
        "id": "lx_eVcsRNbbX"
      },
      "execution_count": 28,
      "outputs": []
    },
    {
      "cell_type": "code",
      "source": [
        "print(torch.unique(n_labels, return_counts=True))\n",
        "print(n_labels)\n",
        "print(n_centorids.shape)"
      ],
      "metadata": {
        "colab": {
          "base_uri": "https://localhost:8080/"
        },
        "id": "QoxkwR-QONqF",
        "outputId": "980fbda4-fd3a-43b1-94fc-7b8c3b4953cf"
      },
      "execution_count": 29,
      "outputs": [
        {
          "output_type": "stream",
          "name": "stdout",
          "text": [
            "(tensor([   0,    1,    2,  ..., 2774, 2775, 2776], dtype=torch.int32), tensor([32, 30, 32,  ...,  1,  1,  1]))\n",
            "tensor([   0,    0,    1,  ..., 2483, 2643, 2776], dtype=torch.int32)\n",
            "torch.Size([2777, 768])\n"
          ]
        }
      ]
    },
    {
      "cell_type": "code",
      "source": [
        "counts = torch.unique(n_labels, return_counts=True)[1]\n",
        "counts = torch.sort(counts, descending=True)[0]\n",
        "print(counts)\n",
        "plt.plot(range(len(counts)), counts)\n",
        "plt.grid()\n",
        "plt.title(\"Counts of Indices in Groups\")\n",
        "plt.show()"
      ],
      "metadata": {
        "colab": {
          "base_uri": "https://localhost:8080/",
          "height": 469
        },
        "id": "kRafEbxRWx1r",
        "outputId": "2adebec8-bee3-4287-d3c7-b637a8aac654"
      },
      "execution_count": 30,
      "outputs": [
        {
          "output_type": "stream",
          "name": "stdout",
          "text": [
            "tensor([32, 32, 32,  ...,  1,  1,  1])\n"
          ]
        },
        {
          "output_type": "display_data",
          "data": {
            "text/plain": [
              "<Figure size 640x480 with 1 Axes>"
            ],
            "image/png": "[encoded data removed]"
          },
          "metadata": {}
        }
      ]
    },
    {
      "cell_type": "code",
      "source": [
        "def get_cluster_indices_padded(labels, max_cluster_size):\n",
        "    cluster_count = len(torch.unique(labels))\n",
        "    cluster_arange = torch.arange(len(labels))\n",
        "    emb_from_centroid = torch.full((cluster_count, max_cluster_size), -1, dtype=torch.int32)\n",
        "\n",
        "    for cluster_id in range(cluster_count):\n",
        "        cluster_data = cluster_arange[labels == cluster_id]\n",
        "        emb_from_centroid[cluster_id, :len(cluster_data)] = cluster_data\n",
        "    return emb_from_centroid\n",
        "\n",
        "\n",
        "emb_from_centroid = get_cluster_indices_padded(n_labels, max_cluster_size)\n",
        "print(emb_from_centroid.shape)\n",
        "emb_from_centroid"
      ],
      "metadata": {
        "colab": {
          "base_uri": "https://localhost:8080/"
        },
        "id": "tMeObFINcwk9",
        "outputId": "88df4f40-8893-4726-d23b-9105c59618ed"
      },
      "execution_count": 31,
      "outputs": [
        {
          "output_type": "stream",
          "name": "stdout",
          "text": [
            "torch.Size([2777, 32])\n"
          ]
        },
        {
          "output_type": "execute_result",
          "data": {
            "text/plain": [
              "tensor([[    0,     1,     6,  ...,   563,   590,   601],\n",
              "        [    2,    93,   140,  ..., 37941,    -1,    -1],\n",
              "        [    3,     4,     7,  ...,  1544,  1870,  1875],\n",
              "        ...,\n",
              "        [50180,    -1,    -1,  ...,    -1,    -1,    -1],\n",
              "        [50252,    -1,    -1,  ...,    -1,    -1,    -1],\n",
              "        [50256,    -1,    -1,  ...,    -1,    -1,    -1]], dtype=torch.int32)"
            ]
          },
          "metadata": {},
          "execution_count": 31
        }
      ]
    },
    {
      "cell_type": "code",
      "source": [
        "cent = last_hidden.squeeze(0) @ n_centorids.T\n",
        "print(cent.shape)\n",
        "\n",
        "centers_values, center_indices = torch.topk(cent, k=nsearch)\n",
        "centers_values, center_indices"
      ],
      "metadata": {
        "id": "o_w06nrSL-DQ",
        "colab": {
          "base_uri": "https://localhost:8080/"
        },
        "outputId": "3ba57947-1f79-49a3-e461-b55ea32a7eab"
      },
      "execution_count": 32,
      "outputs": [
        {
          "output_type": "stream",
          "name": "stdout",
          "text": [
            "torch.Size([2777])\n"
          ]
        },
        {
          "output_type": "execute_result",
          "data": {
            "text/plain": [
              "(tensor([-132.2869, -132.2869, -132.2869, -132.7649, -132.7649, -132.9182,\n",
              "         -133.4594, -133.4594, -133.5175, -133.6947, -133.8382, -134.0378,\n",
              "         -134.0378, -134.0586, -134.1568, -134.1568, -134.4700, -134.4700,\n",
              "         -134.6079, -134.9297, -135.1464, -135.2577, -135.3654, -135.4310,\n",
              "         -135.4948, -135.4948, -135.5474, -135.5952, -135.6522, -135.6554,\n",
              "         -135.8982, -135.8982]),\n",
              " tensor([  84,  951,  504,  140,  899,  320,  759,  159,  354, 1106,  123, 1052,\n",
              "          118,  124,  155, 1082, 1259,  391,  280, 1384,   45,  311,  431,   55,\n",
              "          866, 2038, 1298,  535,  134, 1932,    5,   93]))"
            ]
          },
          "metadata": {},
          "execution_count": 32
        }
      ]
    },
    {
      "cell_type": "code",
      "source": [
        "# TODO: handle out of bound\n",
        "search_idx = emb_from_centroid[center_indices].view(-1)\n",
        "search_idx.shape"
      ],
      "metadata": {
        "colab": {
          "base_uri": "https://localhost:8080/"
        },
        "id": "SjBGmstqd_mB",
        "outputId": "226e9c7a-b0e3-4c6f-ec65-996fdb9a961e"
      },
      "execution_count": 33,
      "outputs": [
        {
          "output_type": "execute_result",
          "data": {
            "text/plain": [
              "torch.Size([1024])"
            ]
          },
          "metadata": {},
          "execution_count": 33
        }
      ]
    },
    {
      "cell_type": "code",
      "source": [
        "emb_idx = out_emb_weight[search_idx]\n",
        "emb_idx.shape"
      ],
      "metadata": {
        "id": "gg8ofDobQ3NX",
        "colab": {
          "base_uri": "https://localhost:8080/"
        },
        "outputId": "5efb2adc-ad63-48e6-9d16-2461c408c2eb"
      },
      "execution_count": 34,
      "outputs": [
        {
          "output_type": "execute_result",
          "data": {
            "text/plain": [
              "torch.Size([1024, 768])"
            ]
          },
          "metadata": {},
          "execution_count": 34
        }
      ]
    },
    {
      "cell_type": "code",
      "source": [
        "logits_idx = last_hidden.squeeze(0) @ emb_idx.T\n",
        "logits_idx.shape"
      ],
      "metadata": {
        "colab": {
          "base_uri": "https://localhost:8080/"
        },
        "id": "khVxDMEZeugk",
        "outputId": "52a9bc81-c67e-4ca6-8baf-63ecd24f2314"
      },
      "execution_count": 35,
      "outputs": [
        {
          "output_type": "execute_result",
          "data": {
            "text/plain": [
              "torch.Size([1024])"
            ]
          },
          "metadata": {},
          "execution_count": 35
        }
      ]
    },
    {
      "cell_type": "code",
      "source": [
        "idx_values, idx_indices_raw = torch.topk(logits_idx, k)\n",
        "idx_indices = search_idx[idx_indices_raw]\n",
        "print(idx_values, idx_indices_raw)\n",
        "print(idx_indices)"
      ],
      "metadata": {
        "colab": {
          "base_uri": "https://localhost:8080/"
        },
        "id": "PV-iZtrbe6Gm",
        "outputId": "3724fa73-ad0d-4a5a-a3ac-570a34faead0"
      },
      "execution_count": 36,
      "outputs": [
        {
          "output_type": "stream",
          "name": "stdout",
          "text": [
            "tensor([-127.7823, -129.2252, -129.2598, -129.3449, -129.4318, -129.4405,\n",
            "        -129.7332, -129.8380, -129.8471, -130.0565, -130.0877, -130.2641,\n",
            "        -130.3804, -130.3933, -130.4101, -130.4501, -130.4596, -130.4787,\n",
            "        -130.4790, -130.5951, -130.7422, -130.8116, -130.8119, -130.8795,\n",
            "        -130.9045, -130.9355, -130.9832, -131.0176, -131.0489, -131.0860,\n",
            "        -131.1094, -131.1153, -131.1362, -131.1743, -131.1854, -131.1877,\n",
            "        -131.2218, -131.2353, -131.2375, -131.2424, -131.2632, -131.2851,\n",
            "        -131.2899, -131.2996, -131.3229, -131.3530, -131.4123, -131.4164,\n",
            "        -131.4252, -131.4872]) tensor([  1,  13, 225, 273,   4, 124,  97,   2, 201, 102,   8,  22,  24,   5,\n",
            "        260,  71, 550,   6,  15,  99, 114,  20,  18,   0,   3, 129,  96, 472,\n",
            "        340, 331, 344, 224,  27,  25,  19, 770,  35, 385, 237, 834, 162,  93,\n",
            "         80, 101, 107, 457,  82, 100, 513,  67])\n",
            "tensor([  651,  1394,   905, 10400,   787,  4929,   923,   751,  8006,  1494,\n",
            "         1064,  2193,  2222,  1011,  4545,  3613,  4729,  1037,  1577,  1332,\n",
            "         3745,  1949,  1805,   467,   779,  6654,   804,  4829,  4341,  2883,\n",
            "         5298,   886,  2620,  2251,  1826,  7808,  8335,   711,  2245, 14947,\n",
            "         4512,  5911,  4461,  1382,  2270,  2298,  4646,  1368, 10648,  2987],\n",
            "       dtype=torch.int32)\n"
          ]
        }
      ]
    },
    {
      "cell_type": "code",
      "source": [
        "def get_common(indices, ref_indices):\n",
        "    return [i for i in ref_indices.tolist()[0:j] if i in indices.tolist()]\n",
        "\n",
        "exp_logits = torch.exp(last_logits.to(torch.float64).squeeze(0))\n",
        "\n",
        "for j in [10, 20, 50]:\n",
        "    common_indices = torch.tensor(get_common(idx_indices.squeeze(0), topk_indices.squeeze(0)))\n",
        "    exp_logits_all = exp_logits[idx_indices.squeeze(0)[0:j]]\n",
        "\n",
        "    exp_logits_common = exp_logits[common_indices]\n",
        "    logits_percentage = exp_logits_common.sum() / exp_logits_all.sum()\n",
        "\n",
        "    print(f\"{len(common_indices)}/{j} ({len(common_indices)/j:0.2f}), logits: {logits_percentage:0.4f}\")"
      ],
      "metadata": {
        "colab": {
          "base_uri": "https://localhost:8080/"
        },
        "id": "VjNmyxNYgDC0",
        "outputId": "9bcf2521-e004-4904-d6d2-390a5ff86292"
      },
      "execution_count": 37,
      "outputs": [
        {
          "output_type": "stream",
          "name": "stdout",
          "text": [
            "9/10 (0.90), logits: 0.9598\n",
            "18/20 (0.90), logits: 0.9613\n",
            "42/50 (0.84), logits: 0.9492\n"
          ]
        }
      ]
    },
    {
      "cell_type": "code",
      "source": [
        "exp_logits_common / exp_logits_all.sum()"
      ],
      "metadata": {
        "colab": {
          "base_uri": "https://localhost:8080/"
        },
        "id": "tYu8jSc6oxoG",
        "outputId": "254f6b02-a80c-487c-ffb2-6d3ef2816d63"
      },
      "execution_count": 45,
      "outputs": [
        {
          "output_type": "execute_result",
          "data": {
            "text/plain": [
              "tensor([0.2302, 0.0544, 0.0525, 0.0483, 0.0442, 0.0439, 0.0327, 0.0295, 0.0292,\n",
              "        0.0237, 0.0230, 0.0192, 0.0171, 0.0169, 0.0166, 0.0160, 0.0158, 0.0155,\n",
              "        0.0155, 0.0138, 0.0119, 0.0111, 0.0111, 0.0104, 0.0101, 0.0098, 0.0094,\n",
              "        0.0091, 0.0088, 0.0085, 0.0083, 0.0082, 0.0080, 0.0077, 0.0077, 0.0076,\n",
              "        0.0074, 0.0073, 0.0073, 0.0072, 0.0071, 0.0069], dtype=torch.float64)"
            ]
          },
          "metadata": {},
          "execution_count": 45
        }
      ]
    },
    {
      "cell_type": "code",
      "source": [],
      "metadata": {
        "id": "KK3vsk9M4WEv"
      },
      "execution_count": null,
      "outputs": []
    }
  ],
  "metadata": {
    "colab": {
      "provenance": [],
      "authorship_tag": "ABX9TyP6+lmbm3xLHy9bDUJFMtLl",
      "include_colab_link": true
    },
    "kernelspec": {
      "display_name": "Python 3",
      "name": "python3"
    },
    "language_info": {
      "name": "python"
    }
  },
  "nbformat": 4,
  "nbformat_minor": 0
}