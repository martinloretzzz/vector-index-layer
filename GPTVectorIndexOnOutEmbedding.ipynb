{
  "cells": [
    {
      "cell_type": "markdown",
      "metadata": {
        "id": "view-in-github",
        "colab_type": "text"
      },
      "source": [
        "<a href=\"https://colab.research.google.com/github/martinloretzzz/vector-index-layer/blob/main/GPTVectorIndexOnOutEmbedding.ipynb\" target=\"_parent\"><img src=\"https://colab.research.google.com/assets/colab-badge.svg\" alt=\"Open In Colab\"/></a>"
      ]
    },
    {
      "cell_type": "code",
      "execution_count": 66,
      "metadata": {
        "id": "m9Fv-bjlx8Ot"
      },
      "outputs": [],
      "source": [
        "from transformers import AutoModelForCausalLM, AutoTokenizer\n",
        "import torch\n",
        "import torch.nn.functional as F\n",
        "import matplotlib.pyplot as plt\n",
        "from sklearn.cluster import BisectingKMeans\n",
        "import time\n",
        "import timeit\n",
        "import functools"
      ]
    },
    {
      "cell_type": "code",
      "execution_count": 2,
      "metadata": {
        "colab": {
          "base_uri": "https://localhost:8080/"
        },
        "id": "a60r2gddzutA",
        "outputId": "01a95519-c57a-4f7a-b074-6339aae90d8a"
      },
      "outputs": [
        {
          "output_type": "stream",
          "name": "stderr",
          "text": [
            "The attention mask and the pad token id were not set. As a consequence, you may observe unexpected behavior. Please pass your input's `attention_mask` to obtain reliable results.\n",
            "Setting `pad_token_id` to `eos_token_id`:None for open-end generation.\n",
            "The attention mask is not set and cannot be inferred from input because pad token is same as eos token. As a consequence, you may observe unexpected behavior. Please pass your input's `attention_mask` to obtain reliable results.\n"
          ]
        },
        {
          "output_type": "stream",
          "name": "stdout",
          "text": [
            "The quick brown foxes are a great way to get a little bit of a kick out of your dog.\n",
            "\n",
            "The quick brown foxes are a great way to get a little bit of a kick out of your dog. The quick brown fox\n"
          ]
        }
      ],
      "source": [
        "model_name = \"gpt2\"\n",
        "model = AutoModelForCausalLM.from_pretrained(model_name)\n",
        "tokenizer = AutoTokenizer.from_pretrained(model_name)\n",
        "\n",
        "input_text = \"The quick brown fox\"\n",
        "input_ids = tokenizer(input_text, return_tensors=\"pt\").input_ids\n",
        "\n",
        "output = model.generate(\n",
        "    input_ids,\n",
        "    max_length=50,\n",
        "    return_dict_in_generate=True,\n",
        "    output_hidden_states=True,\n",
        "    output_scores=True,\n",
        "    output_logits=True\n",
        ")\n",
        "\n",
        "gen_tokens = output.sequences\n",
        "\n",
        "gen_text = tokenizer.batch_decode(gen_tokens)[0]\n",
        "print(gen_text)"
      ]
    },
    {
      "cell_type": "code",
      "execution_count": 3,
      "metadata": {
        "colab": {
          "base_uri": "https://localhost:8080/"
        },
        "id": "9lh9EoUL5Dul",
        "outputId": "202ba1ce-c442-4f44-e595-ce4b0f747ae6"
      },
      "outputs": [
        {
          "output_type": "stream",
          "name": "stdout",
          "text": [
            "46 46 13\n",
            "torch.Size([1, 768])\n",
            "torch.Size([1, 50257])\n"
          ]
        }
      ],
      "source": [
        "pos = -1\n",
        "\n",
        "hidden = output.hidden_states\n",
        "logits = output.logits\n",
        "\n",
        "last_hidden = hidden[pos][-1].squeeze(0)\n",
        "last_logits = logits[pos]\n",
        "\n",
        "print(len(hidden), len(logits), len(hidden[pos]))\n",
        "print(last_hidden.shape)\n",
        "print(last_logits.shape)"
      ]
    },
    {
      "cell_type": "code",
      "execution_count": 4,
      "metadata": {
        "colab": {
          "base_uri": "https://localhost:8080/"
        },
        "id": "u-Kjdgsw67qz",
        "outputId": "ec1b57bd-9653-4e95-be5f-8f7e6cacea65"
      },
      "outputs": [
        {
          "output_type": "stream",
          "name": "stdout",
          "text": [
            "tensor([[-16.7025, -22.2096, -22.3336, -22.7295, -22.7990, -23.0965, -23.2275,\n",
            "         -23.3474, -23.4601, -23.4611, -23.4778, -23.5370, -23.5772, -23.5819,\n",
            "         -23.6171, -23.6674, -23.7671, -23.8119, -23.8334, -23.8356, -23.8740,\n",
            "         -23.8971, -24.1396, -24.1470, -24.1580, -24.1917, -24.2041, -24.2178,\n",
            "         -24.2220, -24.2435, -24.2504, -24.3074, -24.3531, -24.4168, -24.5043,\n",
            "         -24.5263, -24.5277, -24.5595, -24.5778, -24.6051, -24.6493, -24.6613,\n",
            "         -24.6913, -24.7223, -24.7263, -24.7284, -24.7514, -24.7763, -24.8248,\n",
            "         -24.8317]])\n",
            "tensor([[21831, 17481,  3290,  6844,  7586, 44915, 33039,   318, 23214,  3797,\n",
            "           279,   290, 13209, 22746,  3392,  9230,    82,  6842,  1125,    12,\n",
            "           443,    11, 11875, 13062,   269,  2330, 33043, 13617, 20096,   285,\n",
            "         37735,  5426,   275, 15900,   277,  6473,  2951, 10693,   479,   393,\n",
            "         26241,   460,  2042, 34003, 13791,   686, 30720,  5104,  4257,  7540]])\n"
          ]
        }
      ],
      "source": [
        "k = 50\n",
        "\n",
        "topk_values, topk_indices = torch.topk(last_logits, k)\n",
        "print(topk_values)\n",
        "print(topk_indices)"
      ]
    },
    {
      "cell_type": "code",
      "source": [
        "# TODO run kmeans inside cluster to get more specific centroids\n",
        "def limit_cluster_to_size(labels, centroids, max_cluster_size):\n",
        "    n_labels, n_centorids = [], []\n",
        "    new_clusters, new_clusters_count = {}, {}\n",
        "\n",
        "    for l in labels.tolist():\n",
        "        if l not in new_clusters or new_clusters_count[l] >= max_cluster_size:\n",
        "            new_cluster = len(n_centorids)\n",
        "            n_centorids.append(centroids[l])\n",
        "            new_clusters[l] = new_cluster\n",
        "            new_clusters_count[l] = 0\n",
        "\n",
        "        n_labels.append(new_clusters[l])\n",
        "        new_clusters_count[l] += 1\n",
        "\n",
        "    return torch.tensor(n_labels, dtype=torch.int32), torch.stack(n_centorids)\n",
        "\n",
        "\n",
        "def get_cluster_indices_padded(labels, max_cluster_size):\n",
        "    cluster_count = len(torch.unique(labels))\n",
        "    cluster_arange = torch.arange(len(labels))\n",
        "    emb_from_centroid = torch.full((cluster_count, max_cluster_size), -1, dtype=torch.int32)\n",
        "\n",
        "    for cluster_id in range(cluster_count):\n",
        "        cluster_data = cluster_arange[labels == cluster_id]\n",
        "        emb_from_centroid[cluster_id, :len(cluster_data)] = cluster_data\n",
        "    return emb_from_centroid\n",
        "\n",
        "kmeans_cache = {}\n",
        "def kmeans(x, n_centroids):\n",
        "    if n_centroids in kmeans_cache:\n",
        "        return kmeans_cache[n_centroids]\n",
        "\n",
        "    bkmeans = BisectingKMeans(n_clusters=n_centroids, random_state=42)\n",
        "    labels = torch.from_numpy(bkmeans.fit_predict(x))\n",
        "    centroids = torch.from_numpy(bkmeans.cluster_centers_).to(torch.float32)\n",
        "\n",
        "    kmeans_cache[n_centroids] = labels, centroids\n",
        "    return labels, centroids"
      ],
      "metadata": {
        "id": "yiPF_DhM4zVO"
      },
      "execution_count": 319,
      "outputs": []
    },
    {
      "cell_type": "code",
      "source": [
        "class VectorIndexEmbedding():\n",
        "    def __init__(self, weight, k, n_centroids, n_search, max_cluster_size):\n",
        "        self.n_centroids, self.n_search, self.k, self.max_cluster_size = n_centroids, n_search, k, max_cluster_size\n",
        "        self.weight = weight\n",
        "\n",
        "        # TODO: try normalize with \"normal\" kmeans\n",
        "        weight_norm = weight # F.normalize(weight, p=2, dim=-1)\n",
        "\n",
        "        # TODO: Inner product distance, normalize?\n",
        "        labels, centroids = kmeans(weight_norm, n_centroids)\n",
        "        self.t_labels = labels\n",
        "        # centroids = F.normalize(centroids, p=2, dim=-1)\n",
        "        self.labels, self.centroids = limit_cluster_to_size(labels, centroids, max_cluster_size)\n",
        "        self.cluster_indices = get_cluster_indices_padded(self.labels, max_cluster_size)\n",
        "\n",
        "\n",
        "    def forward(self, x):\n",
        "        # TODO batching\n",
        "        x_norm = x # F.normalize(x.squeeze(0), p=2, dim=-1)\n",
        "\n",
        "        cluster_logits = x_norm @ self.centroids.T\n",
        "        topk_cluster_idx = torch.topk(cluster_logits, k=self.n_search)[1]\n",
        "        emb_idx = self.cluster_indices[topk_cluster_idx].view(-1)\n",
        "        weight_selected = self.weight[emb_idx]\n",
        "\n",
        "        logits_selected = x.squeeze(0) @ weight_selected.T\n",
        "        # TODO: handle out of bound, nan values\n",
        "        # logits_selected[emb_idx == -1] = -float('inf')\n",
        "        logits_values, logits_indices_cluster = torch.topk(logits_selected, self.k)\n",
        "        return logits_values, emb_idx[logits_indices_cluster]"
      ],
      "metadata": {
        "id": "KK3vsk9M4WEv"
      },
      "execution_count": 362,
      "outputs": []
    },
    {
      "cell_type": "code",
      "source": [
        "out_emb_weight = model.transformer.wte.weight.detach().clone()\n",
        "print(out_emb_weight.shape)\n",
        "\n",
        "out_emb_vector = VectorIndexEmbedding(out_emb_weight, k=k, n_centroids=8192, n_search=256, max_cluster_size=8)\n",
        "print(len(out_emb_vector.centroids))"
      ],
      "metadata": {
        "colab": {
          "base_uri": "https://localhost:8080/"
        },
        "id": "HYOubClf4eBb",
        "outputId": "1f3dd905-8c19-4cda-c839-88f17ba90c38"
      },
      "execution_count": 371,
      "outputs": [
        {
          "output_type": "stream",
          "name": "stdout",
          "text": [
            "torch.Size([50257, 768])\n",
            "10669\n"
          ]
        }
      ]
    },
    {
      "cell_type": "code",
      "source": [
        "out_logits, out_indices = out_emb_vector.forward(last_hidden)"
      ],
      "metadata": {
        "id": "OrjPOoSq5xJk"
      },
      "execution_count": 372,
      "outputs": []
    },
    {
      "cell_type": "code",
      "source": [
        "# TODO measure on the GPU\n",
        "\n",
        "forward_time = timeit.timeit(lambda: out_emb_vector.forward(last_hidden), number=100)\n",
        "forward_ref_time = timeit.timeit(lambda: last_hidden.squeeze(0) @ out_emb_weight.T, number=100)\n",
        "\n",
        "print(f\"Average time taken (forward): {forward_time:.6f} seconds\")\n",
        "print(f\"Average time taken (matrix multiplication): {forward_ref_time:.6f} seconds\")\n",
        "print(f\"Speedup: {forward_ref_time / forward_time:.4f}\")"
      ],
      "metadata": {
        "colab": {
          "base_uri": "https://localhost:8080/"
        },
        "id": "MubsgL5kLWsO",
        "outputId": "bfc9846c-7241-412b-c6f6-73170bfa51d2"
      },
      "execution_count": 373,
      "outputs": [
        {
          "output_type": "stream",
          "name": "stdout",
          "text": [
            "Average time taken (forward): 1.468065 seconds\n",
            "Average time taken (matrix multiplication): 4.999607 seconds\n",
            "Speedup: 3.4056\n"
          ]
        }
      ]
    },
    {
      "cell_type": "code",
      "source": [
        "positions = range(len(hidden))\n",
        "# positions = [6]\n",
        "k_options = [1, 3, 5, 10, 50]\n",
        "\n",
        "for pos in positions:\n",
        "    last_layer_hidden = hidden[pos][-1].squeeze(0)[0,:]\n",
        "    last_layer_logits = logits[pos].squeeze(0)\n",
        "    position_topk_indices = torch.topk(last_layer_logits, k)[1]\n",
        "\n",
        "    exp_logits = torch.exp(last_layer_logits.to(torch.float64))\n",
        "\n",
        "    token = tokenizer.decode(gen_tokens[0][pos])\n",
        "\n",
        "    out_logits, out_indices = out_emb_vector.forward(last_layer_hidden)\n",
        "    for j in k_options:\n",
        "        common_indices = torch.tensor([i for i in position_topk_indices.squeeze(0).tolist()[0:j] if i in out_indices.squeeze(0).tolist()], dtype=torch.int32)\n",
        "\n",
        "        exp_logits_all = exp_logits[position_topk_indices.squeeze(0)[0:j]]\n",
        "        exp_logits_common = exp_logits[common_indices]\n",
        "        logits_percentage = exp_logits_common.sum() / exp_logits_all.sum()\n",
        "        color = \"\\033[33m\" if logits_percentage < 0.8 else \"\"\n",
        "\n",
        "        print(f\"{color}{pos}: {len(common_indices)}/{j} ({len(common_indices)/j:0.2f}), logits: {logits_percentage:0.4f}, {token}\\033[0m\")\n",
        "    if len(k_options) > 1: print()\n",
        "\n",
        "    if len(positions) == 1:\n",
        "        print(exp_logits_common / exp_logits_all.sum())"
      ],
      "metadata": {
        "colab": {
          "base_uri": "https://localhost:8080/"
        },
        "id": "ECv9TITu701E",
        "outputId": "a307494d-0ad1-4df7-ffe2-cfb3819c92df"
      },
      "execution_count": 377,
      "outputs": [
        {
          "output_type": "stream",
          "name": "stdout",
          "text": [
            "\u001b[33m0: 0/1 (0.00), logits: 0.0000, The\u001b[0m\n",
            "\u001b[33m0: 2/3 (0.67), logits: 0.3818, The\u001b[0m\n",
            "\u001b[33m0: 4/5 (0.80), logits: 0.5271, The\u001b[0m\n",
            "\u001b[33m0: 6/10 (0.60), logits: 0.5174, The\u001b[0m\n",
            "\u001b[33m0: 15/50 (0.30), logits: 0.4504, The\u001b[0m\n",
            "\n",
            "1: 1/1 (1.00), logits: 1.0000,  quick\u001b[0m\n",
            "1: 3/3 (1.00), logits: 1.0000,  quick\u001b[0m\n",
            "1: 5/5 (1.00), logits: 1.0000,  quick\u001b[0m\n",
            "1: 10/10 (1.00), logits: 1.0000,  quick\u001b[0m\n",
            "1: 49/50 (0.98), logits: 0.9914,  quick\u001b[0m\n",
            "\n",
            "2: 1/1 (1.00), logits: 1.0000,  brown\u001b[0m\n",
            "2: 3/3 (1.00), logits: 1.0000,  brown\u001b[0m\n",
            "2: 5/5 (1.00), logits: 1.0000,  brown\u001b[0m\n",
            "2: 10/10 (1.00), logits: 1.0000,  brown\u001b[0m\n",
            "2: 49/50 (0.98), logits: 0.9913,  brown\u001b[0m\n",
            "\n",
            "3: 1/1 (1.00), logits: 1.0000,  fox\u001b[0m\n",
            "3: 3/3 (1.00), logits: 1.0000,  fox\u001b[0m\n",
            "3: 5/5 (1.00), logits: 1.0000,  fox\u001b[0m\n",
            "3: 10/10 (1.00), logits: 1.0000,  fox\u001b[0m\n",
            "3: 46/50 (0.92), logits: 0.9626,  fox\u001b[0m\n",
            "\n",
            "4: 1/1 (1.00), logits: 1.0000, es\u001b[0m\n",
            "4: 3/3 (1.00), logits: 1.0000, es\u001b[0m\n",
            "4: 5/5 (1.00), logits: 1.0000, es\u001b[0m\n",
            "4: 8/10 (0.80), logits: 0.9421, es\u001b[0m\n",
            "4: 40/50 (0.80), logits: 0.9002, es\u001b[0m\n",
            "\n",
            "5: 1/1 (1.00), logits: 1.0000,  are\u001b[0m\n",
            "5: 3/3 (1.00), logits: 1.0000,  are\u001b[0m\n",
            "5: 5/5 (1.00), logits: 1.0000,  are\u001b[0m\n",
            "5: 10/10 (1.00), logits: 1.0000,  are\u001b[0m\n",
            "5: 47/50 (0.94), logits: 0.9999,  are\u001b[0m\n",
            "\n",
            "6: 1/1 (1.00), logits: 1.0000,  a\u001b[0m\n",
            "6: 3/3 (1.00), logits: 1.0000,  a\u001b[0m\n",
            "6: 5/5 (1.00), logits: 1.0000,  a\u001b[0m\n",
            "6: 10/10 (1.00), logits: 1.0000,  a\u001b[0m\n",
            "6: 45/50 (0.90), logits: 0.9493,  a\u001b[0m\n",
            "\n",
            "7: 1/1 (1.00), logits: 1.0000,  great\u001b[0m\n",
            "7: 3/3 (1.00), logits: 1.0000,  great\u001b[0m\n",
            "7: 5/5 (1.00), logits: 1.0000,  great\u001b[0m\n",
            "7: 9/10 (0.90), logits: 0.9557,  great\u001b[0m\n",
            "7: 44/50 (0.88), logits: 0.9407,  great\u001b[0m\n",
            "\n",
            "8: 1/1 (1.00), logits: 1.0000,  way\u001b[0m\n",
            "8: 3/3 (1.00), logits: 1.0000,  way\u001b[0m\n",
            "8: 5/5 (1.00), logits: 1.0000,  way\u001b[0m\n",
            "8: 9/10 (0.90), logits: 0.9330,  way\u001b[0m\n",
            "8: 38/50 (0.76), logits: 0.8353,  way\u001b[0m\n",
            "\n",
            "\u001b[33m9: 0/1 (0.00), logits: 0.0000,  to\u001b[0m\n",
            "\u001b[33m9: 2/3 (0.67), logits: 0.6009,  to\u001b[0m\n",
            "\u001b[33m9: 3/5 (0.60), logits: 0.5460,  to\u001b[0m\n",
            "\u001b[33m9: 7/10 (0.70), logits: 0.5955,  to\u001b[0m\n",
            "\u001b[33m9: 37/50 (0.74), logits: 0.6590,  to\u001b[0m\n",
            "\n",
            "10: 1/1 (1.00), logits: 1.0000,  get\u001b[0m\n",
            "10: 3/3 (1.00), logits: 1.0000,  get\u001b[0m\n",
            "10: 5/5 (1.00), logits: 1.0000,  get\u001b[0m\n",
            "10: 9/10 (0.90), logits: 0.9950,  get\u001b[0m\n",
            "10: 45/50 (0.90), logits: 0.9909,  get\u001b[0m\n",
            "\n",
            "11: 1/1 (1.00), logits: 1.0000,  a\u001b[0m\n",
            "11: 3/3 (1.00), logits: 1.0000,  a\u001b[0m\n",
            "11: 5/5 (1.00), logits: 1.0000,  a\u001b[0m\n",
            "11: 10/10 (1.00), logits: 1.0000,  a\u001b[0m\n",
            "11: 40/50 (0.80), logits: 0.9109,  a\u001b[0m\n",
            "\n",
            "12: 1/1 (1.00), logits: 1.0000,  little\u001b[0m\n",
            "12: 3/3 (1.00), logits: 1.0000,  little\u001b[0m\n",
            "12: 5/5 (1.00), logits: 1.0000,  little\u001b[0m\n",
            "12: 9/10 (0.90), logits: 0.9532,  little\u001b[0m\n",
            "\u001b[33m12: 31/50 (0.62), logits: 0.7514,  little\u001b[0m\n",
            "\n",
            "13: 1/1 (1.00), logits: 1.0000,  bit\u001b[0m\n",
            "13: 3/3 (1.00), logits: 1.0000,  bit\u001b[0m\n",
            "13: 5/5 (1.00), logits: 1.0000,  bit\u001b[0m\n",
            "13: 10/10 (1.00), logits: 1.0000,  bit\u001b[0m\n",
            "13: 48/50 (0.96), logits: 0.9954,  bit\u001b[0m\n",
            "\n",
            "14: 1/1 (1.00), logits: 1.0000,  of\u001b[0m\n",
            "14: 3/3 (1.00), logits: 1.0000,  of\u001b[0m\n",
            "14: 5/5 (1.00), logits: 1.0000,  of\u001b[0m\n",
            "14: 9/10 (0.90), logits: 0.9984,  of\u001b[0m\n",
            "14: 49/50 (0.98), logits: 0.9984,  of\u001b[0m\n",
            "\n",
            "15: 1/1 (1.00), logits: 1.0000,  a\u001b[0m\n",
            "15: 3/3 (1.00), logits: 1.0000,  a\u001b[0m\n",
            "15: 5/5 (1.00), logits: 1.0000,  a\u001b[0m\n",
            "15: 10/10 (1.00), logits: 1.0000,  a\u001b[0m\n",
            "15: 45/50 (0.90), logits: 0.9804,  a\u001b[0m\n",
            "\n",
            "16: 1/1 (1.00), logits: 1.0000,  kick\u001b[0m\n",
            "16: 3/3 (1.00), logits: 1.0000,  kick\u001b[0m\n",
            "16: 5/5 (1.00), logits: 1.0000,  kick\u001b[0m\n",
            "16: 10/10 (1.00), logits: 1.0000,  kick\u001b[0m\n",
            "16: 39/50 (0.78), logits: 0.8401,  kick\u001b[0m\n",
            "\n",
            "17: 1/1 (1.00), logits: 1.0000,  out\u001b[0m\n",
            "17: 3/3 (1.00), logits: 1.0000,  out\u001b[0m\n",
            "17: 5/5 (1.00), logits: 1.0000,  out\u001b[0m\n",
            "17: 10/10 (1.00), logits: 1.0000,  out\u001b[0m\n",
            "17: 47/50 (0.94), logits: 0.9957,  out\u001b[0m\n",
            "\n",
            "\u001b[33m18: 0/1 (0.00), logits: 0.0000,  of\u001b[0m\n",
            "\u001b[33m18: 2/3 (0.67), logits: 0.5314,  of\u001b[0m\n",
            "\u001b[33m18: 4/5 (0.80), logits: 0.6009,  of\u001b[0m\n",
            "\u001b[33m18: 9/10 (0.90), logits: 0.6801,  of\u001b[0m\n",
            "\u001b[33m18: 26/50 (0.52), logits: 0.6677,  of\u001b[0m\n",
            "\n",
            "19: 1/1 (1.00), logits: 1.0000,  your\u001b[0m\n",
            "19: 3/3 (1.00), logits: 1.0000,  your\u001b[0m\n",
            "19: 5/5 (1.00), logits: 1.0000,  your\u001b[0m\n",
            "19: 10/10 (1.00), logits: 1.0000,  your\u001b[0m\n",
            "19: 48/50 (0.96), logits: 0.9999,  your\u001b[0m\n",
            "\n",
            "20: 1/1 (1.00), logits: 1.0000,  dog\u001b[0m\n",
            "20: 3/3 (1.00), logits: 1.0000,  dog\u001b[0m\n",
            "20: 5/5 (1.00), logits: 1.0000,  dog\u001b[0m\n",
            "20: 10/10 (1.00), logits: 1.0000,  dog\u001b[0m\n",
            "20: 48/50 (0.96), logits: 0.9728,  dog\u001b[0m\n",
            "\n",
            "21: 1/1 (1.00), logits: 1.0000, .\u001b[0m\n",
            "21: 3/3 (1.00), logits: 1.0000, .\u001b[0m\n",
            "21: 5/5 (1.00), logits: 1.0000, .\u001b[0m\n",
            "21: 10/10 (1.00), logits: 1.0000, .\u001b[0m\n",
            "21: 41/50 (0.82), logits: 0.9200, .\u001b[0m\n",
            "\n",
            "22: 1/1 (1.00), logits: 1.0000, \n",
            "\u001b[0m\n",
            "22: 3/3 (1.00), logits: 1.0000, \n",
            "\u001b[0m\n",
            "22: 5/5 (1.00), logits: 1.0000, \n",
            "\u001b[0m\n",
            "22: 9/10 (0.90), logits: 0.9994, \n",
            "\u001b[0m\n",
            "22: 37/50 (0.74), logits: 0.9965, \n",
            "\u001b[0m\n",
            "\n",
            "23: 1/1 (1.00), logits: 1.0000, \n",
            "\u001b[0m\n",
            "23: 3/3 (1.00), logits: 1.0000, \n",
            "\u001b[0m\n",
            "23: 5/5 (1.00), logits: 1.0000, \n",
            "\u001b[0m\n",
            "23: 10/10 (1.00), logits: 1.0000, \n",
            "\u001b[0m\n",
            "23: 41/50 (0.82), logits: 0.9978, \n",
            "\u001b[0m\n",
            "\n",
            "24: 1/1 (1.00), logits: 1.0000, The\u001b[0m\n",
            "24: 3/3 (1.00), logits: 1.0000, The\u001b[0m\n",
            "24: 5/5 (1.00), logits: 1.0000, The\u001b[0m\n",
            "24: 10/10 (1.00), logits: 1.0000, The\u001b[0m\n",
            "24: 42/50 (0.84), logits: 0.9982, The\u001b[0m\n",
            "\n",
            "25: 1/1 (1.00), logits: 1.0000,  quick\u001b[0m\n",
            "25: 3/3 (1.00), logits: 1.0000,  quick\u001b[0m\n",
            "25: 5/5 (1.00), logits: 1.0000,  quick\u001b[0m\n",
            "25: 10/10 (1.00), logits: 1.0000,  quick\u001b[0m\n",
            "25: 48/50 (0.96), logits: 0.9923,  quick\u001b[0m\n",
            "\n",
            "26: 1/1 (1.00), logits: 1.0000,  brown\u001b[0m\n",
            "26: 3/3 (1.00), logits: 1.0000,  brown\u001b[0m\n",
            "26: 5/5 (1.00), logits: 1.0000,  brown\u001b[0m\n",
            "26: 10/10 (1.00), logits: 1.0000,  brown\u001b[0m\n",
            "26: 50/50 (1.00), logits: 1.0000,  brown\u001b[0m\n",
            "\n",
            "27: 1/1 (1.00), logits: 1.0000,  fox\u001b[0m\n",
            "27: 3/3 (1.00), logits: 1.0000,  fox\u001b[0m\n",
            "27: 5/5 (1.00), logits: 1.0000,  fox\u001b[0m\n",
            "27: 10/10 (1.00), logits: 1.0000,  fox\u001b[0m\n",
            "27: 47/50 (0.94), logits: 0.9991,  fox\u001b[0m\n",
            "\n",
            "28: 1/1 (1.00), logits: 1.0000, es\u001b[0m\n",
            "28: 3/3 (1.00), logits: 1.0000, es\u001b[0m\n",
            "28: 4/5 (0.80), logits: 0.9998, es\u001b[0m\n",
            "28: 8/10 (0.80), logits: 0.9997, es\u001b[0m\n",
            "28: 47/50 (0.94), logits: 0.9997, es\u001b[0m\n",
            "\n",
            "29: 1/1 (1.00), logits: 1.0000,  are\u001b[0m\n",
            "29: 3/3 (1.00), logits: 1.0000,  are\u001b[0m\n",
            "29: 5/5 (1.00), logits: 1.0000,  are\u001b[0m\n",
            "29: 10/10 (1.00), logits: 1.0000,  are\u001b[0m\n",
            "29: 49/50 (0.98), logits: 1.0000,  are\u001b[0m\n",
            "\n",
            "30: 1/1 (1.00), logits: 1.0000,  a\u001b[0m\n",
            "30: 3/3 (1.00), logits: 1.0000,  a\u001b[0m\n",
            "30: 5/5 (1.00), logits: 1.0000,  a\u001b[0m\n",
            "30: 10/10 (1.00), logits: 1.0000,  a\u001b[0m\n",
            "30: 44/50 (0.88), logits: 0.9998,  a\u001b[0m\n",
            "\n",
            "31: 1/1 (1.00), logits: 1.0000,  great\u001b[0m\n",
            "31: 3/3 (1.00), logits: 1.0000,  great\u001b[0m\n",
            "31: 5/5 (1.00), logits: 1.0000,  great\u001b[0m\n",
            "31: 10/10 (1.00), logits: 1.0000,  great\u001b[0m\n",
            "31: 49/50 (0.98), logits: 0.9999,  great\u001b[0m\n",
            "\n",
            "32: 1/1 (1.00), logits: 1.0000,  way\u001b[0m\n",
            "32: 3/3 (1.00), logits: 1.0000,  way\u001b[0m\n",
            "32: 4/5 (0.80), logits: 0.9999,  way\u001b[0m\n",
            "32: 9/10 (0.90), logits: 0.9999,  way\u001b[0m\n",
            "32: 48/50 (0.96), logits: 0.9999,  way\u001b[0m\n",
            "\n",
            "33: 1/1 (1.00), logits: 1.0000,  to\u001b[0m\n",
            "33: 3/3 (1.00), logits: 1.0000,  to\u001b[0m\n",
            "33: 5/5 (1.00), logits: 1.0000,  to\u001b[0m\n",
            "33: 9/10 (0.90), logits: 1.0000,  to\u001b[0m\n",
            "33: 45/50 (0.90), logits: 1.0000,  to\u001b[0m\n",
            "\n",
            "34: 1/1 (1.00), logits: 1.0000,  get\u001b[0m\n",
            "34: 3/3 (1.00), logits: 1.0000,  get\u001b[0m\n",
            "34: 5/5 (1.00), logits: 1.0000,  get\u001b[0m\n",
            "34: 10/10 (1.00), logits: 1.0000,  get\u001b[0m\n",
            "34: 49/50 (0.98), logits: 1.0000,  get\u001b[0m\n",
            "\n",
            "35: 1/1 (1.00), logits: 1.0000,  a\u001b[0m\n",
            "35: 3/3 (1.00), logits: 1.0000,  a\u001b[0m\n",
            "35: 5/5 (1.00), logits: 1.0000,  a\u001b[0m\n",
            "35: 10/10 (1.00), logits: 1.0000,  a\u001b[0m\n",
            "35: 49/50 (0.98), logits: 1.0000,  a\u001b[0m\n",
            "\n",
            "36: 1/1 (1.00), logits: 1.0000,  little\u001b[0m\n",
            "36: 1/3 (0.33), logits: 0.9996,  little\u001b[0m\n",
            "36: 1/5 (0.20), logits: 0.9996,  little\u001b[0m\n",
            "36: 4/10 (0.40), logits: 0.9996,  little\u001b[0m\n",
            "36: 38/50 (0.76), logits: 0.9995,  little\u001b[0m\n",
            "\n",
            "37: 1/1 (1.00), logits: 1.0000,  bit\u001b[0m\n",
            "37: 2/3 (0.67), logits: 0.9999,  bit\u001b[0m\n",
            "37: 4/5 (0.80), logits: 0.9999,  bit\u001b[0m\n",
            "37: 9/10 (0.90), logits: 0.9999,  bit\u001b[0m\n",
            "37: 46/50 (0.92), logits: 0.9999,  bit\u001b[0m\n",
            "\n",
            "38: 1/1 (1.00), logits: 1.0000,  of\u001b[0m\n",
            "38: 3/3 (1.00), logits: 1.0000,  of\u001b[0m\n",
            "38: 5/5 (1.00), logits: 1.0000,  of\u001b[0m\n",
            "38: 10/10 (1.00), logits: 1.0000,  of\u001b[0m\n",
            "38: 48/50 (0.96), logits: 1.0000,  of\u001b[0m\n",
            "\n",
            "39: 1/1 (1.00), logits: 1.0000,  a\u001b[0m\n",
            "39: 3/3 (1.00), logits: 1.0000,  a\u001b[0m\n",
            "39: 5/5 (1.00), logits: 1.0000,  a\u001b[0m\n",
            "39: 9/10 (0.90), logits: 1.0000,  a\u001b[0m\n",
            "39: 46/50 (0.92), logits: 0.9999,  a\u001b[0m\n",
            "\n",
            "40: 1/1 (1.00), logits: 1.0000,  kick\u001b[0m\n",
            "40: 2/3 (0.67), logits: 0.9998,  kick\u001b[0m\n",
            "40: 3/5 (0.60), logits: 0.9997,  kick\u001b[0m\n",
            "40: 6/10 (0.60), logits: 0.9996,  kick\u001b[0m\n",
            "40: 44/50 (0.88), logits: 0.9996,  kick\u001b[0m\n",
            "\n",
            "41: 1/1 (1.00), logits: 1.0000,  out\u001b[0m\n",
            "41: 3/3 (1.00), logits: 1.0000,  out\u001b[0m\n",
            "41: 5/5 (1.00), logits: 1.0000,  out\u001b[0m\n",
            "41: 10/10 (1.00), logits: 1.0000,  out\u001b[0m\n",
            "41: 19/50 (0.38), logits: 0.9998,  out\u001b[0m\n",
            "\n",
            "42: 1/1 (1.00), logits: 1.0000,  of\u001b[0m\n",
            "\u001b[33m42: 2/3 (0.67), logits: 0.6393,  of\u001b[0m\n",
            "\u001b[33m42: 4/5 (0.80), logits: 0.6607,  of\u001b[0m\n",
            "\u001b[33m42: 9/10 (0.90), logits: 0.6884,  of\u001b[0m\n",
            "\u001b[33m42: 14/50 (0.28), logits: 0.6216,  of\u001b[0m\n",
            "\n",
            "43: 1/1 (1.00), logits: 1.0000,  your\u001b[0m\n",
            "43: 3/3 (1.00), logits: 1.0000,  your\u001b[0m\n",
            "43: 5/5 (1.00), logits: 1.0000,  your\u001b[0m\n",
            "43: 9/10 (0.90), logits: 0.9609,  your\u001b[0m\n",
            "43: 45/50 (0.90), logits: 0.9420,  your\u001b[0m\n",
            "\n",
            "44: 1/1 (1.00), logits: 1.0000,  dog\u001b[0m\n",
            "44: 3/3 (1.00), logits: 1.0000,  dog\u001b[0m\n",
            "44: 5/5 (1.00), logits: 1.0000,  dog\u001b[0m\n",
            "44: 9/10 (0.90), logits: 0.9960,  dog\u001b[0m\n",
            "44: 41/50 (0.82), logits: 0.9910,  dog\u001b[0m\n",
            "\n",
            "45: 1/1 (1.00), logits: 1.0000, .\u001b[0m\n",
            "45: 3/3 (1.00), logits: 1.0000, .\u001b[0m\n",
            "45: 5/5 (1.00), logits: 1.0000, .\u001b[0m\n",
            "45: 7/10 (0.70), logits: 0.9958, .\u001b[0m\n",
            "45: 38/50 (0.76), logits: 0.9917, .\u001b[0m\n",
            "\n"
          ]
        }
      ]
    },
    {
      "cell_type": "code",
      "source": [
        "counts = torch.unique(out_emb_vector.labels, return_counts=True)[1]\n",
        "counts = torch.sort(counts, descending=True)[0]\n",
        "\n",
        "print(counts)\n",
        "plt.plot(range(len(counts)), counts)\n",
        "plt.title(\"Counts of Indices in Groups\")\n",
        "plt.grid()\n",
        "plt.show()"
      ],
      "metadata": {
        "colab": {
          "base_uri": "https://localhost:8080/",
          "height": 469
        },
        "id": "yuZQkQ1s4h9b",
        "outputId": "03078eaa-02c5-4144-d5bc-cc8558bc039e"
      },
      "execution_count": 370,
      "outputs": [
        {
          "output_type": "stream",
          "name": "stdout",
          "text": [
            "tensor([8, 8, 8,  ..., 1, 1, 1])\n"
          ]
        },
        {
          "output_type": "display_data",
          "data": {
            "text/plain": [
              "<Figure size 640x480 with 1 Axes>"
            ],
            "image/png": "[encoded data removed]"
          },
          "metadata": {}
        }
      ]
    },
    {
      "cell_type": "code",
      "source": [],
      "metadata": {
        "id": "5Jb7tbS-5P3f"
      },
      "execution_count": 325,
      "outputs": []
    }
  ],
  "metadata": {
    "colab": {
      "provenance": [],
      "authorship_tag": "ABX9TyNS0ByMNuflzIUAxasQAS9M",
      "include_colab_link": true
    },
    "kernelspec": {
      "display_name": "Python 3",
      "name": "python3"
    },
    "language_info": {
      "name": "python"
    }
  },
  "nbformat": 4,
  "nbformat_minor": 0
}