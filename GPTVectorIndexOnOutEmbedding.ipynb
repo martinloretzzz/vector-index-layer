{
  "cells": [
    {
      "cell_type": "markdown",
      "metadata": {
        "id": "view-in-github",
        "colab_type": "text"
      },
      "source": [
        "<a href=\"https://colab.research.google.com/github/martinloretzzz/vector-index-layer/blob/main/GPTVectorIndexOnOutEmbedding.ipynb\" target=\"_parent\"><img src=\"https://colab.research.google.com/assets/colab-badge.svg\" alt=\"Open In Colab\"/></a>"
      ]
    },
    {
      "cell_type": "code",
      "execution_count": 1,
      "metadata": {
        "colab": {
          "base_uri": "https://localhost:8080/"
        },
        "id": "4qCb07l42U2N",
        "outputId": "4ea9ad3d-f98f-47bb-ba56-077b86c696e9"
      },
      "outputs": [
        {
          "output_type": "stream",
          "name": "stdout",
          "text": [
            "Collecting faiss-gpu\n",
            "  Downloading faiss_gpu-1.7.2-cp310-cp310-manylinux_2_17_x86_64.manylinux2014_x86_64.whl.metadata (1.4 kB)\n",
            "Downloading faiss_gpu-1.7.2-cp310-cp310-manylinux_2_17_x86_64.manylinux2014_x86_64.whl (85.5 MB)\n",
            "\u001b[2K   \u001b[90m━━━━━━━━━━━━━━━━━━━━━━━━━━━━━━━━━━━━━━━━\u001b[0m \u001b[32m85.5/85.5 MB\u001b[0m \u001b[31m7.0 MB/s\u001b[0m eta \u001b[36m0:00:00\u001b[0m\n",
            "\u001b[?25hInstalling collected packages: faiss-gpu\n",
            "Successfully installed faiss-gpu-1.7.2\n"
          ]
        }
      ],
      "source": [
        "!pip install faiss-gpu"
      ]
    },
    {
      "cell_type": "code",
      "execution_count": 2,
      "metadata": {
        "id": "m9Fv-bjlx8Ot"
      },
      "outputs": [],
      "source": [
        "from transformers import AutoModelForCausalLM, AutoTokenizer\n",
        "import torch\n",
        "import torch.nn.functional as F\n",
        "import faiss"
      ]
    },
    {
      "cell_type": "code",
      "execution_count": 3,
      "metadata": {
        "colab": {
          "base_uri": "https://localhost:8080/",
          "height": 365,
          "referenced_widgets": [
            "883472e119ae46d39847dd2348756948",
            "334dcd1db7dd4f5fb8ad0150345a903f",
            "cff6425d07374b349183f6f2a8b479fb",
            "4419382f9a9c4d7080d1cfa02fc2a9e6",
            "609f48945cec4f8aa3fbf3d4dd1947e2",
            "1896b62a823041a8bc7a65c9229c75e4",
            "2ecd891a29bf48b0a42e142d37973a0f",
            "4369b89cf7ae43c8ae85abae1df25036",
            "595d6d649dc348c398e9adae8f653aa6",
            "34d6a2a92f4049dcaef49dfe6e0bd1f5",
            "a790b58637f347cfa9f4a0df2cc650ef",
            "64f23cd5e104435c835ba4708f23a2ac",
            "e0d04e90b03c4184a45e6abe90f07e29",
            "5c8e9f211783452f8d9965fe6b53b025",
            "9b90b48dd33848c78f9276b0c0021dad",
            "dcda4b279bd84985a0cdc1db0e02348d",
            "89ade74f09c64ae4bf0b9f68cff32f0f",
            "3b3278609f4043db88f88b8936272cf3",
            "39ce88d23ec74f429732246b0aa2d684",
            "ab25a87c28f7402785a026a4e6739ba5",
            "f3408a18a387465fada1cb918d831085",
            "d94f68a71333473ba645bcc0d21a0ac2",
            "da2f644757474d26b7579fbbb3ad0afc",
            "e0086c553d2e4165b2891e4523cef09f",
            "0fe0c46dcc8f43fa8021114c46d4b7b6",
            "118366e0162141cca234d01b58928910",
            "ee3d96c21aa2429f9acf60b7c3ab0d7c",
            "759e9223b3974fe1b3576930beb38d2d",
            "a0dfb79fd9a0468592f82e3f3f4043e8",
            "45be29ad8d404d78b376cd383bb059a1",
            "098c41087d424cc595e1802848242f3d",
            "354f9fecd6a742bda44aea586f18a1e2",
            "7bb1574e3c744cc3947faf976771d0a0",
            "be171f35a9e848d4a3b56b26b753a012",
            "59dd86b14fa64806b615eac2fe6b0673",
            "0d72ae1e16ae45ca9782d720b0db666d",
            "982c00f5ad4b48d994d2cc94ef7ea3bc",
            "cfe119bc6d904fcf945c55e58f8cb070",
            "060ad55ba4df4b92a74140a2d28ae8d3",
            "e6e8955ee7a346438c6ec7d2b30e749e",
            "7040be3eb1774ded803585cce297616a",
            "de77833a6192438aa5d9145c6f919c9e",
            "c94598b1f506440fbfdbd597a0861de4",
            "70df8f033ead4c668d08422603d3d663",
            "be154cce7b0543f98b699d8169633e5f",
            "3bc0de0e83114875b00f153116db19f7",
            "fc44e177dcd546b58d2687e64a5bb854",
            "efedee1bbe52463783b7bc758d897939",
            "c706b890f2184deaa706d738f2f60179",
            "22d5aa3df55845a1b6bf86b1cb1dd3b7",
            "1b647f7d751d46faa16db66bc39a68ee",
            "480d5a3e431947e1b1079a0b7d71be48",
            "ac4f32dc5e0d45a4aa8b93c282976654",
            "78e288aea4f243419630007203cc78cd",
            "f5901a690e7d45ce990caee69e2b528c",
            "2e336f4965d84527838eee1c7372a3e4",
            "aaffa6aaeb76455fb76e760fec0e8e39",
            "07585e3da5a5450097695523128b2e03",
            "317f51b0b8f9434fafd85a8d2e23176e",
            "62f5bb994e894ca4b6ea2cd155539f9a",
            "22b6321f8dd04e9bb59cd50e0999ae4f",
            "fd7ef146e9f14da1aade14ebc37ccb35",
            "199b7a25a160411bbf5bec0416883350",
            "03b8923692444b74b1aabd16d57203f9",
            "5f417ff54e484ea09eb283e14ccf1b91",
            "0bbf6dc5ff524e6ca22e2030663f07a2",
            "c1e0d98eebe14b7a8a3867ee59c4fb8a",
            "8bbb9f5378ab4ef2a493f2383816803a",
            "fb21847e873945db8626db9c6ec20025",
            "c2d5c9649dec49f1b426787f368afb4c",
            "5098679b6b7d4a3cb073d4b94b842354",
            "3284042b760f4e94af4c2f26691f56f6",
            "598d91371e264b47885010bcd4d28bad",
            "56831abf55d049e28d6a4ece04022891",
            "0e827edd23164b98be9b9f2251848075",
            "991cfe9c8ce64a6dbd5b50c92b0d7e49",
            "a69a0ba882f3485e93b75a633c43ef5f"
          ]
        },
        "id": "a60r2gddzutA",
        "outputId": "3d3ef5c6-b090-4d17-8d6a-6fc07d603197"
      },
      "outputs": [
        {
          "output_type": "display_data",
          "data": {
            "text/plain": [
              "config.json:   0%|          | 0.00/665 [00:00<?, ?B/s]"
            ],
            "application/vnd.jupyter.widget-view+json": {
              "version_major": 2,
              "version_minor": 0,
              "model_id": "883472e119ae46d39847dd2348756948"
            }
          },
          "metadata": {}
        },
        {
          "output_type": "display_data",
          "data": {
            "text/plain": [
              "model.safetensors:   0%|          | 0.00/548M [00:00<?, ?B/s]"
            ],
            "application/vnd.jupyter.widget-view+json": {
              "version_major": 2,
              "version_minor": 0,
              "model_id": "64f23cd5e104435c835ba4708f23a2ac"
            }
          },
          "metadata": {}
        },
        {
          "output_type": "display_data",
          "data": {
            "text/plain": [
              "generation_config.json:   0%|          | 0.00/124 [00:00<?, ?B/s]"
            ],
            "application/vnd.jupyter.widget-view+json": {
              "version_major": 2,
              "version_minor": 0,
              "model_id": "da2f644757474d26b7579fbbb3ad0afc"
            }
          },
          "metadata": {}
        },
        {
          "output_type": "display_data",
          "data": {
            "text/plain": [
              "tokenizer_config.json:   0%|          | 0.00/26.0 [00:00<?, ?B/s]"
            ],
            "application/vnd.jupyter.widget-view+json": {
              "version_major": 2,
              "version_minor": 0,
              "model_id": "be171f35a9e848d4a3b56b26b753a012"
            }
          },
          "metadata": {}
        },
        {
          "output_type": "display_data",
          "data": {
            "text/plain": [
              "vocab.json:   0%|          | 0.00/1.04M [00:00<?, ?B/s]"
            ],
            "application/vnd.jupyter.widget-view+json": {
              "version_major": 2,
              "version_minor": 0,
              "model_id": "be154cce7b0543f98b699d8169633e5f"
            }
          },
          "metadata": {}
        },
        {
          "output_type": "display_data",
          "data": {
            "text/plain": [
              "merges.txt:   0%|          | 0.00/456k [00:00<?, ?B/s]"
            ],
            "application/vnd.jupyter.widget-view+json": {
              "version_major": 2,
              "version_minor": 0,
              "model_id": "2e336f4965d84527838eee1c7372a3e4"
            }
          },
          "metadata": {}
        },
        {
          "output_type": "display_data",
          "data": {
            "text/plain": [
              "tokenizer.json:   0%|          | 0.00/1.36M [00:00<?, ?B/s]"
            ],
            "application/vnd.jupyter.widget-view+json": {
              "version_major": 2,
              "version_minor": 0,
              "model_id": "c1e0d98eebe14b7a8a3867ee59c4fb8a"
            }
          },
          "metadata": {}
        },
        {
          "output_type": "stream",
          "name": "stderr",
          "text": [
            "The attention mask and the pad token id were not set. As a consequence, you may observe unexpected behavior. Please pass your input's `attention_mask` to obtain reliable results.\n",
            "Setting `pad_token_id` to `eos_token_id`:None for open-end generation.\n",
            "The attention mask is not set and cannot be inferred from input because pad token is same as eos token. As a consequence, you may observe unexpected behavior. Please pass your input's `attention_mask` to obtain reliable results.\n"
          ]
        },
        {
          "output_type": "stream",
          "name": "stdout",
          "text": [
            "The quick brown foxes are a great way to get a little bit of a kick out of your dog.\n",
            "\n",
            "The quick brown foxes are a great way to get a little bit of a kick out of your dog. The quick brown fox\n"
          ]
        }
      ],
      "source": [
        "model_name = \"gpt2\"\n",
        "model = AutoModelForCausalLM.from_pretrained(model_name)\n",
        "tokenizer = AutoTokenizer.from_pretrained(model_name)\n",
        "\n",
        "input_text = \"The quick brown fox\"\n",
        "input_ids = tokenizer(input_text, return_tensors=\"pt\").input_ids\n",
        "\n",
        "output = model.generate(\n",
        "    input_ids,\n",
        "    max_length=50,\n",
        "    return_dict_in_generate=True,\n",
        "    output_hidden_states=True,\n",
        "    output_scores=True,\n",
        "    output_logits=True\n",
        ")\n",
        "\n",
        "gen_tokens = output.sequences\n",
        "\n",
        "gen_text = tokenizer.batch_decode(gen_tokens)[0]\n",
        "print(gen_text)"
      ]
    },
    {
      "cell_type": "code",
      "execution_count": 120,
      "metadata": {
        "colab": {
          "base_uri": "https://localhost:8080/"
        },
        "id": "9lh9EoUL5Dul",
        "outputId": "3e86a19b-b4f9-421a-88c0-4067c4f8ea6a"
      },
      "outputs": [
        {
          "output_type": "stream",
          "name": "stdout",
          "text": [
            "46 46 13\n",
            "torch.Size([1, 768])\n",
            "torch.Size([1, 50257])\n"
          ]
        }
      ],
      "source": [
        "pos = 6\n",
        "\n",
        "hidden = output.hidden_states\n",
        "logits = output.logits\n",
        "\n",
        "last_hidden = hidden[pos][-1].squeeze(0)\n",
        "last_logits = logits[pos]\n",
        "\n",
        "print(len(hidden), len(logits), len(hidden[pos]))\n",
        "print(last_hidden.shape)\n",
        "print(last_logits.shape)"
      ]
    },
    {
      "cell_type": "code",
      "execution_count": 122,
      "metadata": {
        "colab": {
          "base_uri": "https://localhost:8080/"
        },
        "id": "u-Kjdgsw67qz",
        "outputId": "beed8ee3-c724-4e9f-e2d4-12f71b83d870"
      },
      "outputs": [
        {
          "output_type": "stream",
          "name": "stdout",
          "text": [
            "tensor([[0.1144, 0.0270, 0.0261, 0.0240, 0.0220, 0.0218, 0.0163, 0.0146, 0.0145,\n",
            "         0.0145, 0.0118, 0.0114, 0.0100, 0.0096, 0.0085, 0.0084, 0.0083, 0.0079,\n",
            "         0.0079, 0.0077, 0.0077, 0.0070, 0.0069, 0.0066, 0.0065, 0.0059, 0.0056,\n",
            "         0.0055, 0.0055, 0.0052, 0.0050, 0.0049, 0.0047, 0.0045, 0.0044, 0.0042,\n",
            "         0.0041, 0.0041, 0.0041, 0.0040, 0.0040, 0.0038, 0.0038, 0.0038, 0.0037,\n",
            "         0.0036, 0.0036, 0.0036, 0.0035, 0.0034]])\n",
            "tensor([[  651,  1394,   905, 10400,   787,  4929,   923,   751,  8006,   766,\n",
            "          1494,  1064,   423,  2193,  2222,  1011,  4545,  3613,  4729,  1037,\n",
            "          1577,  2952,  1332,  4483,  3368,  3745,  1234,  1949,  1805,   467,\n",
            "           779,  6654,   804,  4829,  4341,  2883, 19437,  5298,   886, 20528,\n",
            "          2620,  2251,  1826,  7808,  8335,   711,  2245, 14947,  4512,  5911]])\n"
          ]
        }
      ],
      "source": [
        "k = 50\n",
        "\n",
        "topk_values, topk_indices = torch.topk(F.softmax(last_logits, dim=-1), k)\n",
        "\n",
        "# print(torch.topk(F.softmax(torch.topk(logits[pos], 50)[0]), k)[0])\n",
        "\n",
        "print(topk_values)\n",
        "print(topk_indices)"
      ]
    },
    {
      "cell_type": "code",
      "execution_count": 123,
      "metadata": {
        "colab": {
          "base_uri": "https://localhost:8080/"
        },
        "id": "x1JGeYQG2K-n",
        "outputId": "b452703f-38f0-4f35-9885-d584573a4e11"
      },
      "outputs": [
        {
          "output_type": "execute_result",
          "data": {
            "text/plain": [
              "torch.Size([50257, 768])"
            ]
          },
          "metadata": {},
          "execution_count": 123
        }
      ],
      "source": [
        "in_emb = model.transformer.wte.weight.clone().detach()\n",
        "in_emb.shape"
      ]
    },
    {
      "cell_type": "code",
      "execution_count": 124,
      "metadata": {
        "colab": {
          "base_uri": "https://localhost:8080/"
        },
        "id": "sJ1BkzlQDQFM",
        "outputId": "36cac3c9-bfe2-4f91-f4fe-d21624a66d7f"
      },
      "outputs": [
        {
          "output_type": "stream",
          "name": "stdout",
          "text": [
            "HF: tensor([[-137.8715, -139.6316, -144.6972,  ..., -146.0522, -146.3333,\n",
            "         -140.7632]])\n",
            "EB: tensor([[-137.8715, -139.6316, -144.6972,  ..., -146.0522, -146.3333,\n",
            "         -140.7632]])\n"
          ]
        }
      ],
      "source": [
        "c_logits = last_hidden @ in_emb.T\n",
        "print(\"HF:\", last_logits)\n",
        "print(\"EB:\", c_logits)"
      ]
    },
    {
      "cell_type": "code",
      "execution_count": 125,
      "metadata": {
        "id": "GW6rmIKi3RYY"
      },
      "outputs": [],
      "source": [
        "in_emb_f = in_emb.clone().detach().numpy()\n",
        "in_emb_f\n",
        "vector_dimension = in_emb_f.shape[1]"
      ]
    },
    {
      "cell_type": "code",
      "source": [
        "faiss.normalize_L2(in_emb_f)\n",
        "index = faiss.IndexFlatIP(vector_dimension)\n",
        "index.add(in_emb_f)"
      ],
      "metadata": {
        "id": "8Zeodq0p80d6"
      },
      "execution_count": 126,
      "outputs": []
    },
    {
      "cell_type": "code",
      "execution_count": 127,
      "metadata": {
        "id": "4GZHs6VK4Q3B"
      },
      "outputs": [],
      "source": [
        "q = last_hidden.clone().numpy()\n",
        "faiss.normalize_L2(q)\n",
        "\n",
        "distances_np, indices_np = index.search(q, k=5000)\n",
        "distances, indices = torch.from_numpy(distances_np), torch.from_numpy(indices_np)"
      ]
    },
    {
      "cell_type": "code",
      "execution_count": 128,
      "metadata": {
        "colab": {
          "base_uri": "https://localhost:8080/"
        },
        "id": "ZImp8oWUAmr9",
        "outputId": "77b356b7-4390-40b8-b6cc-edb91da0b586"
      },
      "outputs": [
        {
          "output_type": "execute_result",
          "data": {
            "text/plain": [
              "torch.Size([5000, 768])"
            ]
          },
          "metadata": {},
          "execution_count": 128
        }
      ],
      "source": [
        "emb_w = in_emb[indices.squeeze(0)]\n",
        "emb_w.shape"
      ]
    },
    {
      "cell_type": "code",
      "execution_count": 129,
      "metadata": {
        "colab": {
          "base_uri": "https://localhost:8080/"
        },
        "id": "VCEmhZnaA-sA",
        "outputId": "88c19155-22b1-466e-8108-da547b799b3e"
      },
      "outputs": [
        {
          "output_type": "stream",
          "name": "stdout",
          "text": [
            "torch.Size([1, 5000])\n"
          ]
        },
        {
          "output_type": "execute_result",
          "data": {
            "text/plain": [
              "tensor([[-151.7190, -151.0921, -154.1506,  ..., -144.0900, -145.3496,\n",
              "         -153.6795]])"
            ]
          },
          "metadata": {},
          "execution_count": 129
        }
      ],
      "source": [
        "out = last_hidden @ emb_w.T\n",
        "# out = F.softmax(out, dim=-1)\n",
        "print(out.shape)\n",
        "out"
      ]
    },
    {
      "cell_type": "code",
      "source": [
        "indices.shape"
      ],
      "metadata": {
        "colab": {
          "base_uri": "https://localhost:8080/"
        },
        "id": "U_Ult1EC4Hre",
        "outputId": "beec1652-d381-4ae6-fcef-ca99fe784ba8"
      },
      "execution_count": 130,
      "outputs": [
        {
          "output_type": "execute_result",
          "data": {
            "text/plain": [
              "torch.Size([1, 5000])"
            ]
          },
          "metadata": {},
          "execution_count": 130
        }
      ]
    },
    {
      "cell_type": "code",
      "source": [
        "out_values, out_indices = torch.topk(out, k)\n",
        "print(out_values, out_indices)\n",
        "print(indices.squeeze(0)[out_indices])"
      ],
      "metadata": {
        "colab": {
          "base_uri": "https://localhost:8080/"
        },
        "id": "J6Sq17QZ3sZA",
        "outputId": "cec6bbb6-25d9-4fea-d6de-d3f3bae432cd"
      },
      "execution_count": 131,
      "outputs": [
        {
          "output_type": "stream",
          "name": "stdout",
          "text": [
            "tensor([[-131.8071, -132.7940, -132.7980, -132.8278, -132.8514, -133.4318,\n",
            "         -133.7348, -133.8592, -133.8946, -134.2104, -134.2226, -134.3111,\n",
            "         -134.3525, -134.4565, -134.5937, -134.7094, -134.7148, -134.7857,\n",
            "         -134.8823, -134.9028, -134.9651, -135.1051, -135.1144, -135.1291,\n",
            "         -135.1340, -135.1647, -135.2754, -135.3156, -135.3339, -135.3864,\n",
            "         -135.3866, -135.3983, -135.5182, -135.6168, -135.6566, -135.6669,\n",
            "         -135.7089, -135.7216, -135.7882, -135.8751, -135.9088, -135.9392,\n",
            "         -135.9542, -136.0022, -136.1300, -136.1597, -136.1742, -136.1774,\n",
            "         -136.1829, -136.2095]]) tensor([[4714, 3170, 4445, 4335, 1634, 4494, 3758, 3441, 2153, 3484, 2450, 2670,\n",
            "         4367, 4045, 1841, 4649, 3741, 4434, 4512, 4708, 2600, 1808,  561, 2392,\n",
            "         4623, 4726, 3853, 2805, 4975, 3015, 1923, 3349, 4243, 4789, 4989, 3146,\n",
            "         2174, 4371, 4834,  707, 4709, 4762, 4010, 4616, 2325, 2388, 4309, 3081,\n",
            "         4255, 4988]])\n",
            "tensor([[34298, 27487, 45075, 25834, 20851, 34691, 16133, 32959, 32443, 24852,\n",
            "         47874, 34093, 27978, 16398, 47141, 19078, 47933, 40879, 43414, 43828,\n",
            "         22919, 27805, 43565, 49397, 20202, 32349, 48224, 44811, 21817, 19176,\n",
            "         35008, 48342, 37246, 17177,  6263, 35362, 46681, 38666, 35901, 22891,\n",
            "         25394, 43519, 35526, 48327, 28151, 49779, 25359, 48511, 27318, 48431]])\n"
          ]
        }
      ]
    },
    {
      "cell_type": "code",
      "execution_count": 132,
      "metadata": {
        "colab": {
          "base_uri": "https://localhost:8080/"
        },
        "id": "n6RPHvIjMVwu",
        "outputId": "603029ac-ea24-4916-9e08-fad415f80a75"
      },
      "outputs": [
        {
          "output_type": "execute_result",
          "data": {
            "text/plain": [
              "torch.return_types.topk(\n",
              "values=tensor([[-127.7823, -129.2252, -129.2598, -129.3449, -129.4318, -129.4405,\n",
              "         -129.7332, -129.8380, -129.8471, -129.8475, -130.0565, -130.0877,\n",
              "         -130.2199, -130.2641, -130.3804, -130.3933, -130.4101, -130.4501,\n",
              "         -130.4596, -130.4787, -130.4790, -130.5811, -130.5951, -130.6335,\n",
              "         -130.6503, -130.7422, -130.8038, -130.8116, -130.8119, -130.8795,\n",
              "         -130.9045, -130.9355, -130.9832, -131.0176, -131.0489, -131.0860,\n",
              "         -131.1031, -131.1094, -131.1153, -131.1267, -131.1362, -131.1743,\n",
              "         -131.1854, -131.1877, -131.2218, -131.2353, -131.2375, -131.2424,\n",
              "         -131.2632, -131.2851]]),\n",
              "indices=tensor([[  651,  1394,   905, 10400,   787,  4929,   923,   751,  8006,   766,\n",
              "          1494,  1064,   423,  2193,  2222,  1011,  4545,  3613,  4729,  1037,\n",
              "          1577,  2952,  1332,  4483,  3368,  3745,  1234,  1949,  1805,   467,\n",
              "           779,  6654,   804,  4829,  4341,  2883, 19437,  5298,   886, 20528,\n",
              "          2620,  2251,  1826,  7808,  8335,   711,  2245, 14947,  4512,  5911]]))"
            ]
          },
          "metadata": {},
          "execution_count": 132
        }
      ],
      "source": [
        "torch.topk(c_logits, k)"
      ]
    },
    {
      "cell_type": "code",
      "execution_count": 133,
      "metadata": {
        "colab": {
          "base_uri": "https://localhost:8080/"
        },
        "id": "yiOoqgNZ8ZS1",
        "outputId": "0d20199b-aa75-482e-ef41-bf3d1997545c"
      },
      "outputs": [
        {
          "output_type": "stream",
          "name": "stdout",
          "text": [
            "tensor([[  651,  1394,   905, 10400,   787,  4929,   923,   751,  8006,   766,\n",
            "          1494,  1064,   423,  2193,  2222,  1011,  4545,  3613,  4729,  1037,\n",
            "          1577,  2952,  1332,  4483,  3368,  3745,  1234,  1949,  1805,   467,\n",
            "           779,  6654,   804,  4829,  4341,  2883, 19437,  5298,   886, 20528,\n",
            "          2620,  2251,  1826,  7808,  8335,   711,  2245, 14947,  4512,  5911]])\n"
          ]
        }
      ],
      "source": [
        "# print(indices)\n",
        "print(topk_indices)"
      ]
    },
    {
      "cell_type": "code",
      "source": [
        "def get_common(indices, ref_indices):\n",
        "    return [i for i in ref_indices.tolist()[0:j] if i in indices.tolist()]\n",
        "\n",
        "\n",
        "for j in [10, 20, 50]:\n",
        "    common_indices = get_common(indices.squeeze(0), topk_indices.squeeze(0))\n",
        "    print(f\"{len(common_indices)}/{j} ({len(common_indices)/j:0.2f}): {common_indices}\")"
      ],
      "metadata": {
        "colab": {
          "base_uri": "https://localhost:8080/"
        },
        "id": "S7-epb_t1OQR",
        "outputId": "be72375b-911b-48ee-978a-b9400dd31c89"
      },
      "execution_count": 134,
      "outputs": [
        {
          "output_type": "stream",
          "name": "stdout",
          "text": [
            "0/10 (0.00): []\n",
            "0/20 (0.00): []\n",
            "0/50 (0.00): []\n"
          ]
        }
      ]
    },
    {
      "cell_type": "markdown",
      "source": [
        "## Clutering"
      ],
      "metadata": {
        "id": "R-EhgJwxLxt7"
      }
    },
    {
      "cell_type": "code",
      "source": [
        "x = in_emb.clone().numpy()\n",
        "\n",
        "ncentroids = 2048\n",
        "niter = 20\n",
        "d = x.shape[1]"
      ],
      "metadata": {
        "colab": {
          "base_uri": "https://localhost:8080/"
        },
        "id": "xlDBSvC11m_s",
        "outputId": "4c27b681-4aeb-4569-f1c0-634929a4e424"
      },
      "execution_count": 135,
      "outputs": [
        {
          "output_type": "stream",
          "name": "stdout",
          "text": [
            "ncentroids: 2048\n",
            "nsearch: 32\n"
          ]
        }
      ]
    },
    {
      "cell_type": "code",
      "source": [
        "from sklearn.cluster import BisectingKMeans\n",
        "from sklearn.datasets import make_blobs\n",
        "import matplotlib.pyplot as plt\n",
        "\n",
        "# Inner product distance\n",
        "bkmeans = BisectingKMeans(n_clusters=ncentroids, random_state=42)\n",
        "labels = torch.from_numpy(bkmeans.fit_predict(x))\n",
        "centroids = torch.from_numpy(bkmeans.cluster_centers_)\n",
        "\n",
        "print(centroids.shape)"
      ],
      "metadata": {
        "colab": {
          "base_uri": "https://localhost:8080/"
        },
        "id": "-ixePG0gL83e",
        "outputId": "edd0e712-cbdf-483e-a121-e404d4887496"
      },
      "execution_count": 136,
      "outputs": [
        {
          "output_type": "stream",
          "name": "stdout",
          "text": [
            "torch.Size([2048, 768])\n"
          ]
        }
      ]
    },
    {
      "cell_type": "code",
      "source": [
        "max_cluster_size = 32\n",
        "nsearch = 32"
      ],
      "metadata": {
        "id": "xuW4-Pn5ne04"
      },
      "execution_count": 137,
      "outputs": []
    },
    {
      "cell_type": "code",
      "source": [
        "n_labels = []\n",
        "n_centorids = []\n",
        "unique_labels, counts = torch.unique(labels, return_counts=True)\n",
        "cluster_count = dict(zip(unique_labels.tolist(), counts.tolist()))\n",
        "\n",
        "new_clusters = {}\n",
        "new_clusters_count = {}\n",
        "\n",
        "for l in labels.tolist():\n",
        "  if l not in new_clusters or new_clusters_count[l] >= max_cluster_size:\n",
        "    new_cluster = len(n_centorids)\n",
        "    n_centorids.append(centroids[l])\n",
        "    new_clusters[l] = new_cluster\n",
        "    new_clusters_count[l] = 0\n",
        "\n",
        "  n_labels.append(new_clusters[l])\n",
        "  new_clusters_count[l] += 1\n",
        "\n",
        "n_labels = torch.tensor(n_labels, dtype=torch.int32)\n",
        "n_centorids = torch.stack(n_centorids)\n",
        "\n",
        "# TODO run kmeans inside cluster to get more specific centroids"
      ],
      "metadata": {
        "id": "lx_eVcsRNbbX"
      },
      "execution_count": 138,
      "outputs": []
    },
    {
      "cell_type": "code",
      "source": [
        "print(torch.unique(n_labels, return_counts=True))\n",
        "print(n_labels)\n",
        "print(n_centorids.shape)"
      ],
      "metadata": {
        "colab": {
          "base_uri": "https://localhost:8080/"
        },
        "id": "QoxkwR-QONqF",
        "outputId": "4043c6f8-9c49-48df-dd96-dc3c144d1ede"
      },
      "execution_count": 139,
      "outputs": [
        {
          "output_type": "stream",
          "name": "stdout",
          "text": [
            "(tensor([   0,    1,    2,  ..., 2774, 2775, 2776], dtype=torch.int32), tensor([32, 30, 32,  ...,  1,  1,  1]))\n",
            "tensor([   0,    0,    1,  ..., 2483, 2643, 2776], dtype=torch.int32)\n",
            "torch.Size([2777, 768])\n"
          ]
        }
      ]
    },
    {
      "cell_type": "code",
      "source": [
        "import matplotlib.pyplot as plt\n",
        "\n",
        "counts = torch.unique(n_labels, return_counts=True)[1]\n",
        "counts = torch.sort(counts, descending=True)[0]\n",
        "print(counts)\n",
        "plt.plot(range(len(counts)), counts)\n",
        "plt.grid()\n",
        "plt.title(\"Counts of Indices in Groups\")\n",
        "plt.show()"
      ],
      "metadata": {
        "colab": {
          "base_uri": "https://localhost:8080/",
          "height": 469
        },
        "id": "kRafEbxRWx1r",
        "outputId": "67d7d2ec-ff34-4774-ad65-394be3238aa1"
      },
      "execution_count": 140,
      "outputs": [
        {
          "output_type": "stream",
          "name": "stdout",
          "text": [
            "tensor([32, 32, 32,  ...,  1,  1,  1])\n"
          ]
        },
        {
          "output_type": "display_data",
          "data": {
            "text/plain": [
              "<Figure size 640x480 with 1 Axes>"
            ],
            "image/png": "[encoded data removed]"
          },
          "metadata": {}
        }
      ]
    },
    {
      "cell_type": "code",
      "source": [
        "cluster_count = len(n_centorids)\n",
        "cluster_arange = torch.arange(len(n_labels))\n",
        "emb_from_centroid = torch.full((cluster_count, max_cluster_size), -1, dtype=torch.int32)\n",
        "for cluster_id in range(cluster_count):\n",
        "    cluster_data = cluster_arange[n_labels == cluster_id]\n",
        "    emb_from_centroid[cluster_id, :len(cluster_data)] = cluster_data\n",
        "\n",
        "print(emb_from_centroid.shape)\n",
        "emb_from_centroid"
      ],
      "metadata": {
        "colab": {
          "base_uri": "https://localhost:8080/"
        },
        "id": "tMeObFINcwk9",
        "outputId": "d32a6b7e-8be0-404e-c6a5-6375914b735c"
      },
      "execution_count": 141,
      "outputs": [
        {
          "output_type": "stream",
          "name": "stdout",
          "text": [
            "torch.Size([2777, 32])\n"
          ]
        },
        {
          "output_type": "execute_result",
          "data": {
            "text/plain": [
              "tensor([[    0,     1,     6,  ...,   563,   590,   601],\n",
              "        [    2,    93,   140,  ..., 37941,    -1,    -1],\n",
              "        [    3,     4,     7,  ...,  1544,  1870,  1875],\n",
              "        ...,\n",
              "        [50180,    -1,    -1,  ...,    -1,    -1,    -1],\n",
              "        [50252,    -1,    -1,  ...,    -1,    -1,    -1],\n",
              "        [50256,    -1,    -1,  ...,    -1,    -1,    -1]], dtype=torch.int32)"
            ]
          },
          "metadata": {},
          "execution_count": 141
        }
      ]
    },
    {
      "cell_type": "code",
      "source": [
        "cent = last_hidden.squeeze(0) @ n_centorids.T\n",
        "print(cent.shape)\n",
        "\n",
        "centers_values, center_indices = torch.topk(cent, k=nsearch)\n",
        "centers_values, center_indices"
      ],
      "metadata": {
        "id": "o_w06nrSL-DQ",
        "colab": {
          "base_uri": "https://localhost:8080/"
        },
        "outputId": "15535003-1288-44ad-84cd-7b135b58c15f"
      },
      "execution_count": 142,
      "outputs": [
        {
          "output_type": "stream",
          "name": "stdout",
          "text": [
            "torch.Size([2777])\n"
          ]
        },
        {
          "output_type": "execute_result",
          "data": {
            "text/plain": [
              "(tensor([-132.2869, -132.2869, -132.2869, -132.7649, -132.7649, -132.9182,\n",
              "         -133.4594, -133.4594, -133.5175, -133.6947, -133.8382, -134.0378,\n",
              "         -134.0378, -134.0586, -134.1568, -134.1568, -134.4701, -134.4701,\n",
              "         -134.6079, -134.9297, -135.1464, -135.2577, -135.3654, -135.4310,\n",
              "         -135.4948, -135.4948, -135.5474, -135.5952, -135.6522, -135.6554,\n",
              "         -135.8982, -135.8982]),\n",
              " tensor([  84,  951,  504,  140,  899,  320,  759,  159,  354, 1106,  123, 1052,\n",
              "          118,  124,  155, 1082, 1259,  391,  280, 1384,   45,  311,  431,   55,\n",
              "          866, 2038, 1298,  535,  134, 1932,    5,   93]))"
            ]
          },
          "metadata": {},
          "execution_count": 142
        }
      ]
    },
    {
      "cell_type": "code",
      "source": [
        "# handle out of bound\n",
        "search_idx = emb_from_centroid[center_indices].view(-1)\n",
        "search_idx.shape"
      ],
      "metadata": {
        "colab": {
          "base_uri": "https://localhost:8080/"
        },
        "id": "SjBGmstqd_mB",
        "outputId": "7403fc2e-0743-4399-d18c-c5f3ea405f6d"
      },
      "execution_count": 143,
      "outputs": [
        {
          "output_type": "execute_result",
          "data": {
            "text/plain": [
              "torch.Size([1024])"
            ]
          },
          "metadata": {},
          "execution_count": 143
        }
      ]
    },
    {
      "cell_type": "code",
      "source": [
        "emb_idx = in_emb[search_idx]\n",
        "emb_idx.shape"
      ],
      "metadata": {
        "id": "gg8ofDobQ3NX",
        "colab": {
          "base_uri": "https://localhost:8080/"
        },
        "outputId": "2a75dcb8-eeac-4d24-948c-0ce9980a215a"
      },
      "execution_count": 144,
      "outputs": [
        {
          "output_type": "execute_result",
          "data": {
            "text/plain": [
              "torch.Size([1024, 768])"
            ]
          },
          "metadata": {},
          "execution_count": 144
        }
      ]
    },
    {
      "cell_type": "code",
      "source": [
        "logits_idx = last_hidden.squeeze(0) @ emb_idx.T\n",
        "logits_idx.shape"
      ],
      "metadata": {
        "colab": {
          "base_uri": "https://localhost:8080/"
        },
        "id": "khVxDMEZeugk",
        "outputId": "01591ac1-f3f7-4aa6-8236-a40b7c20f7b6"
      },
      "execution_count": 145,
      "outputs": [
        {
          "output_type": "execute_result",
          "data": {
            "text/plain": [
              "torch.Size([1024])"
            ]
          },
          "metadata": {},
          "execution_count": 145
        }
      ]
    },
    {
      "cell_type": "code",
      "source": [
        "idx_values, idx_indices_raw = torch.topk(logits_idx, k)\n",
        "idx_indices = search_idx[idx_indices_raw]\n",
        "print(idx_values, idx_indices_raw)\n",
        "print(idx_indices)"
      ],
      "metadata": {
        "colab": {
          "base_uri": "https://localhost:8080/"
        },
        "id": "PV-iZtrbe6Gm",
        "outputId": "92ed3fab-e3f6-44cd-d506-83389f303c12"
      },
      "execution_count": 146,
      "outputs": [
        {
          "output_type": "stream",
          "name": "stdout",
          "text": [
            "tensor([-127.7823, -129.2252, -129.2598, -129.3449, -129.4318, -129.4405,\n",
            "        -129.7332, -129.8380, -129.8471, -130.0565, -130.0877, -130.2641,\n",
            "        -130.3804, -130.3933, -130.4101, -130.4501, -130.4596, -130.4787,\n",
            "        -130.4790, -130.5951, -130.7422, -130.8116, -130.8119, -130.8795,\n",
            "        -130.9045, -130.9355, -130.9832, -131.0176, -131.0489, -131.0860,\n",
            "        -131.1094, -131.1153, -131.1362, -131.1743, -131.1854, -131.1877,\n",
            "        -131.2218, -131.2353, -131.2375, -131.2424, -131.2632, -131.2851,\n",
            "        -131.2899, -131.2996, -131.3229, -131.3530, -131.4123, -131.4164,\n",
            "        -131.4252, -131.4872]) tensor([  1,  13, 225, 273,   4, 124,  97,   2, 201, 102,   8,  22,  24,   5,\n",
            "        260,  71, 550,   6,  15,  99, 114,  20,  18,   0,   3, 129,  96, 472,\n",
            "        340, 331, 344, 224,  27,  25,  19, 770,  35, 385, 237, 834, 162,  93,\n",
            "         80, 101, 107, 457,  82, 100, 513,  67])\n",
            "tensor([  651,  1394,   905, 10400,   787,  4929,   923,   751,  8006,  1494,\n",
            "         1064,  2193,  2222,  1011,  4545,  3613,  4729,  1037,  1577,  1332,\n",
            "         3745,  1949,  1805,   467,   779,  6654,   804,  4829,  4341,  2883,\n",
            "         5298,   886,  2620,  2251,  1826,  7808,  8335,   711,  2245, 14947,\n",
            "         4512,  5911,  4461,  1382,  2270,  2298,  4646,  1368, 10648,  2987],\n",
            "       dtype=torch.int32)\n"
          ]
        }
      ]
    },
    {
      "cell_type": "code",
      "source": [
        "exp_logits = torch.exp(last_logits.to(torch.float64).squeeze(0))\n",
        "\n",
        "for j in [10, 20, 50]:\n",
        "    common_indices = torch.tensor(get_common(idx_indices.squeeze(0), topk_indices.squeeze(0)))\n",
        "    exp_logits_all = exp_logits[idx_indices.squeeze(0)[0:j]]\n",
        "\n",
        "    exp_logits_common = exp_logits[common_indices]\n",
        "    logits_percentage = exp_logits_common.sum() / exp_logits_all.sum()\n",
        "\n",
        "    print(f\"{len(common_indices)}/{j} ({len(common_indices)/j:0.2f}), logits: {logits_percentage:0.4f}\")"
      ],
      "metadata": {
        "colab": {
          "base_uri": "https://localhost:8080/"
        },
        "id": "VjNmyxNYgDC0",
        "outputId": "d0cf81b3-f23f-4b81-ce4d-3f6e558f3761"
      },
      "execution_count": 172,
      "outputs": [
        {
          "output_type": "stream",
          "name": "stdout",
          "text": [
            "9/10 (0.90), logits: 0.9598\n",
            "18/20 (0.90), logits: 0.9613\n",
            "42/50 (0.84), logits: 0.9492\n"
          ]
        }
      ]
    },
    {
      "cell_type": "code",
      "source": [
        "exp_logits_common / exp_logits_all.sum()"
      ],
      "metadata": {
        "colab": {
          "base_uri": "https://localhost:8080/"
        },
        "id": "tYu8jSc6oxoG",
        "outputId": "ad0731ad-63eb-41b5-c014-c76fca6367dc"
      },
      "execution_count": 169,
      "outputs": [
        {
          "output_type": "execute_result",
          "data": {
            "text/plain": [
              "tensor([0.2302, 0.0544, 0.0525, 0.0483, 0.0442, 0.0439, 0.0327, 0.0295, 0.0292,\n",
              "        0.0237, 0.0230, 0.0192, 0.0171, 0.0169, 0.0166, 0.0160, 0.0158, 0.0155,\n",
              "        0.0155, 0.0138, 0.0119, 0.0111, 0.0111, 0.0104, 0.0101, 0.0098, 0.0094,\n",
              "        0.0091, 0.0088, 0.0085, 0.0083, 0.0082, 0.0080, 0.0077, 0.0077, 0.0076,\n",
              "        0.0074, 0.0073, 0.0073, 0.0072, 0.0071, 0.0069], dtype=torch.float64)"
            ]
          },
          "metadata": {},
          "execution_count": 169
        }
      ]
    },
    {
      "cell_type": "code",
      "source": [
        "\"\"\"\n",
        "kmeans = faiss.Kmeans(d, ncentroids, niter=niter, max_points_per_centroid=32, gpu=True, verbose=True)\n",
        "fit = kmeans.train(x)\n",
        "# D, I = kmeans.index.search(x, 1)\n",
        "print(fit)\n",
        "centroids = kmeans.centroids\n",
        "print(centroids.shape)\n",
        "\"\"\""
      ],
      "metadata": {
        "id": "lwNDNurORzHg",
        "colab": {
          "base_uri": "https://localhost:8080/",
          "height": 53
        },
        "outputId": "79bc8e40-5355-46ba-8739-2c732487e5f5"
      },
      "execution_count": 148,
      "outputs": [
        {
          "output_type": "execute_result",
          "data": {
            "text/plain": [
              "'\\nkmeans = faiss.Kmeans(d, ncentroids, niter=niter, max_points_per_centroid=32, gpu=True, verbose=True)\\nfit = kmeans.train(x)\\n# D, I = kmeans.index.search(x, 1)\\nprint(fit)\\ncentroids = kmeans.centroids\\nprint(centroids.shape)\\n'"
            ],
            "application/vnd.google.colaboratory.intrinsic+json": {
              "type": "string"
            }
          },
          "metadata": {},
          "execution_count": 148
        }
      ]
    },
    {
      "cell_type": "code",
      "source": [],
      "metadata": {
        "id": "WJtfXnnPaZ4D"
      },
      "execution_count": 148,
      "outputs": []
    }
  ],
  "metadata": {
    "colab": {
      "provenance": [],
      "authorship_tag": "ABX9TyPkvOA2f9Ug2LY7Xrva0/O0",
      "include_colab_link": true
    },
    "kernelspec": {
      "display_name": "Python 3",
      "name": "python3"
    },
    "language_info": {
      "name": "python"
    },
    "widgets": {
      "application/vnd.jupyter.widget-state+json": {
        "883472e119ae46d39847dd2348756948": {
          "model_module": "@jupyter-widgets/controls",
          "model_name": "HBoxModel",
          "model_module_version": "1.5.0",
          "state": {
            "_dom_classes": [],
            "_model_module": "@jupyter-widgets/controls",
            "_model_module_version": "1.5.0",
            "_model_name": "HBoxModel",
            "_view_count": null,
            "_view_module": "@jupyter-widgets/controls",
            "_view_module_version": "1.5.0",
            "_view_name": "HBoxView",
            "box_style": "",
            "children": [
              "IPY_MODEL_334dcd1db7dd4f5fb8ad0150345a903f",
              "IPY_MODEL_cff6425d07374b349183f6f2a8b479fb",
              "IPY_MODEL_4419382f9a9c4d7080d1cfa02fc2a9e6"
            ],
            "layout": "IPY_MODEL_609f48945cec4f8aa3fbf3d4dd1947e2"
          }
        },
        "334dcd1db7dd4f5fb8ad0150345a903f": {
          "model_module": "@jupyter-widgets/controls",
          "model_name": "HTMLModel",
          "model_module_version": "1.5.0",
          "state": {
            "_dom_classes": [],
            "_model_module": "@jupyter-widgets/controls",
            "_model_module_version": "1.5.0",
            "_model_name": "HTMLModel",
            "_view_count": null,
            "_view_module": "@jupyter-widgets/controls",
            "_view_module_version": "1.5.0",
            "_view_name": "HTMLView",
            "description": "",
            "description_tooltip": null,
            "layout": "IPY_MODEL_1896b62a823041a8bc7a65c9229c75e4",
            "placeholder": "​",
            "style": "IPY_MODEL_2ecd891a29bf48b0a42e142d37973a0f",
            "value": "config.json: 100%"
          }
        },
        "cff6425d07374b349183f6f2a8b479fb": {
          "model_module": "@jupyter-widgets/controls",
          "model_name": "FloatProgressModel",
          "model_module_version": "1.5.0",
          "state": {
            "_dom_classes": [],
            "_model_module": "@jupyter-widgets/controls",
            "_model_module_version": "1.5.0",
            "_model_name": "FloatProgressModel",
            "_view_count": null,
            "_view_module": "@jupyter-widgets/controls",
            "_view_module_version": "1.5.0",
            "_view_name": "ProgressView",
            "bar_style": "success",
            "description": "",
            "description_tooltip": null,
            "layout": "IPY_MODEL_4369b89cf7ae43c8ae85abae1df25036",
            "max": 665,
            "min": 0,
            "orientation": "horizontal",
            "style": "IPY_MODEL_595d6d649dc348c398e9adae8f653aa6",
            "value": 665
          }
        },
        "4419382f9a9c4d7080d1cfa02fc2a9e6": {
          "model_module": "@jupyter-widgets/controls",
          "model_name": "HTMLModel",
          "model_module_version": "1.5.0",
          "state": {
            "_dom_classes": [],
            "_model_module": "@jupyter-widgets/controls",
            "_model_module_version": "1.5.0",
            "_model_name": "HTMLModel",
            "_view_count": null,
            "_view_module": "@jupyter-widgets/controls",
            "_view_module_version": "1.5.0",
            "_view_name": "HTMLView",
            "description": "",
            "description_tooltip": null,
            "layout": "IPY_MODEL_34d6a2a92f4049dcaef49dfe6e0bd1f5",
            "placeholder": "​",
            "style": "IPY_MODEL_a790b58637f347cfa9f4a0df2cc650ef",
            "value": " 665/665 [00:00&lt;00:00, 33.2kB/s]"
          }
        },
        "609f48945cec4f8aa3fbf3d4dd1947e2": {
          "model_module": "@jupyter-widgets/base",
          "model_name": "LayoutModel",
          "model_module_version": "1.2.0",
          "state": {
            "_model_module": "@jupyter-widgets/base",
            "_model_module_version": "1.2.0",
            "_model_name": "LayoutModel",
            "_view_count": null,
            "_view_module": "@jupyter-widgets/base",
            "_view_module_version": "1.2.0",
            "_view_name": "LayoutView",
            "align_content": null,
            "align_items": null,
            "align_self": null,
            "border": null,
            "bottom": null,
            "display": null,
            "flex": null,
            "flex_flow": null,
            "grid_area": null,
            "grid_auto_columns": null,
            "grid_auto_flow": null,
            "grid_auto_rows": null,
            "grid_column": null,
            "grid_gap": null,
            "grid_row": null,
            "grid_template_areas": null,
            "grid_template_columns": null,
            "grid_template_rows": null,
            "height": null,
            "justify_content": null,
            "justify_items": null,
            "left": null,
            "margin": null,
            "max_height": null,
            "max_width": null,
            "min_height": null,
            "min_width": null,
            "object_fit": null,
            "object_position": null,
            "order": null,
            "overflow": null,
            "overflow_x": null,
            "overflow_y": null,
            "padding": null,
            "right": null,
            "top": null,
            "visibility": null,
            "width": null
          }
        },
        "1896b62a823041a8bc7a65c9229c75e4": {
          "model_module": "@jupyter-widgets/base",
          "model_name": "LayoutModel",
          "model_module_version": "1.2.0",
          "state": {
            "_model_module": "@jupyter-widgets/base",
            "_model_module_version": "1.2.0",
            "_model_name": "LayoutModel",
            "_view_count": null,
            "_view_module": "@jupyter-widgets/base",
            "_view_module_version": "1.2.0",
            "_view_name": "LayoutView",
            "align_content": null,
            "align_items": null,
            "align_self": null,
            "border": null,
            "bottom": null,
            "display": null,
            "flex": null,
            "flex_flow": null,
            "grid_area": null,
            "grid_auto_columns": null,
            "grid_auto_flow": null,
            "grid_auto_rows": null,
            "grid_column": null,
            "grid_gap": null,
            "grid_row": null,
            "grid_template_areas": null,
            "grid_template_columns": null,
            "grid_template_rows": null,
            "height": null,
            "justify_content": null,
            "justify_items": null,
            "left": null,
            "margin": null,
            "max_height": null,
            "max_width": null,
            "min_height": null,
            "min_width": null,
            "object_fit": null,
            "object_position": null,
            "order": null,
            "overflow": null,
            "overflow_x": null,
            "overflow_y": null,
            "padding": null,
            "right": null,
            "top": null,
            "visibility": null,
            "width": null
          }
        },
        "2ecd891a29bf48b0a42e142d37973a0f": {
          "model_module": "@jupyter-widgets/controls",
          "model_name": "DescriptionStyleModel",
          "model_module_version": "1.5.0",
          "state": {
            "_model_module": "@jupyter-widgets/controls",
            "_model_module_version": "1.5.0",
            "_model_name": "DescriptionStyleModel",
            "_view_count": null,
            "_view_module": "@jupyter-widgets/base",
            "_view_module_version": "1.2.0",
            "_view_name": "StyleView",
            "description_width": ""
          }
        },
        "4369b89cf7ae43c8ae85abae1df25036": {
          "model_module": "@jupyter-widgets/base",
          "model_name": "LayoutModel",
          "model_module_version": "1.2.0",
          "state": {
            "_model_module": "@jupyter-widgets/base",
            "_model_module_version": "1.2.0",
            "_model_name": "LayoutModel",
            "_view_count": null,
            "_view_module": "@jupyter-widgets/base",
            "_view_module_version": "1.2.0",
            "_view_name": "LayoutView",
            "align_content": null,
            "align_items": null,
            "align_self": null,
            "border": null,
            "bottom": null,
            "display": null,
            "flex": null,
            "flex_flow": null,
            "grid_area": null,
            "grid_auto_columns": null,
            "grid_auto_flow": null,
            "grid_auto_rows": null,
            "grid_column": null,
            "grid_gap": null,
            "grid_row": null,
            "grid_template_areas": null,
            "grid_template_columns": null,
            "grid_template_rows": null,
            "height": null,
            "justify_content": null,
            "justify_items": null,
            "left": null,
            "margin": null,
            "max_height": null,
            "max_width": null,
            "min_height": null,
            "min_width": null,
            "object_fit": null,
            "object_position": null,
            "order": null,
            "overflow": null,
            "overflow_x": null,
            "overflow_y": null,
            "padding": null,
            "right": null,
            "top": null,
            "visibility": null,
            "width": null
          }
        },
        "595d6d649dc348c398e9adae8f653aa6": {
          "model_module": "@jupyter-widgets/controls",
          "model_name": "ProgressStyleModel",
          "model_module_version": "1.5.0",
          "state": {
            "_model_module": "@jupyter-widgets/controls",
            "_model_module_version": "1.5.0",
            "_model_name": "ProgressStyleModel",
            "_view_count": null,
            "_view_module": "@jupyter-widgets/base",
            "_view_module_version": "1.2.0",
            "_view_name": "StyleView",
            "bar_color": null,
            "description_width": ""
          }
        },
        "34d6a2a92f4049dcaef49dfe6e0bd1f5": {
          "model_module": "@jupyter-widgets/base",
          "model_name": "LayoutModel",
          "model_module_version": "1.2.0",
          "state": {
            "_model_module": "@jupyter-widgets/base",
            "_model_module_version": "1.2.0",
            "_model_name": "LayoutModel",
            "_view_count": null,
            "_view_module": "@jupyter-widgets/base",
            "_view_module_version": "1.2.0",
            "_view_name": "LayoutView",
            "align_content": null,
            "align_items": null,
            "align_self": null,
            "border": null,
            "bottom": null,
            "display": null,
            "flex": null,
            "flex_flow": null,
            "grid_area": null,
            "grid_auto_columns": null,
            "grid_auto_flow": null,
            "grid_auto_rows": null,
            "grid_column": null,
            "grid_gap": null,
            "grid_row": null,
            "grid_template_areas": null,
            "grid_template_columns": null,
            "grid_template_rows": null,
            "height": null,
            "justify_content": null,
            "justify_items": null,
            "left": null,
            "margin": null,
            "max_height": null,
            "max_width": null,
            "min_height": null,
            "min_width": null,
            "object_fit": null,
            "object_position": null,
            "order": null,
            "overflow": null,
            "overflow_x": null,
            "overflow_y": null,
            "padding": null,
            "right": null,
            "top": null,
            "visibility": null,
            "width": null
          }
        },
        "a790b58637f347cfa9f4a0df2cc650ef": {
          "model_module": "@jupyter-widgets/controls",
          "model_name": "DescriptionStyleModel",
          "model_module_version": "1.5.0",
          "state": {
            "_model_module": "@jupyter-widgets/controls",
            "_model_module_version": "1.5.0",
            "_model_name": "DescriptionStyleModel",
            "_view_count": null,
            "_view_module": "@jupyter-widgets/base",
            "_view_module_version": "1.2.0",
            "_view_name": "StyleView",
            "description_width": ""
          }
        },
        "64f23cd5e104435c835ba4708f23a2ac": {
          "model_module": "@jupyter-widgets/controls",
          "model_name": "HBoxModel",
          "model_module_version": "1.5.0",
          "state": {
            "_dom_classes": [],
            "_model_module": "@jupyter-widgets/controls",
            "_model_module_version": "1.5.0",
            "_model_name": "HBoxModel",
            "_view_count": null,
            "_view_module": "@jupyter-widgets/controls",
            "_view_module_version": "1.5.0",
            "_view_name": "HBoxView",
            "box_style": "",
            "children": [
              "IPY_MODEL_e0d04e90b03c4184a45e6abe90f07e29",
              "IPY_MODEL_5c8e9f211783452f8d9965fe6b53b025",
              "IPY_MODEL_9b90b48dd33848c78f9276b0c0021dad"
            ],
            "layout": "IPY_MODEL_dcda4b279bd84985a0cdc1db0e02348d"
          }
        },
        "e0d04e90b03c4184a45e6abe90f07e29": {
          "model_module": "@jupyter-widgets/controls",
          "model_name": "HTMLModel",
          "model_module_version": "1.5.0",
          "state": {
            "_dom_classes": [],
            "_model_module": "@jupyter-widgets/controls",
            "_model_module_version": "1.5.0",
            "_model_name": "HTMLModel",
            "_view_count": null,
            "_view_module": "@jupyter-widgets/controls",
            "_view_module_version": "1.5.0",
            "_view_name": "HTMLView",
            "description": "",
            "description_tooltip": null,
            "layout": "IPY_MODEL_89ade74f09c64ae4bf0b9f68cff32f0f",
            "placeholder": "​",
            "style": "IPY_MODEL_3b3278609f4043db88f88b8936272cf3",
            "value": "model.safetensors: 100%"
          }
        },
        "5c8e9f211783452f8d9965fe6b53b025": {
          "model_module": "@jupyter-widgets/controls",
          "model_name": "FloatProgressModel",
          "model_module_version": "1.5.0",
          "state": {
            "_dom_classes": [],
            "_model_module": "@jupyter-widgets/controls",
            "_model_module_version": "1.5.0",
            "_model_name": "FloatProgressModel",
            "_view_count": null,
            "_view_module": "@jupyter-widgets/controls",
            "_view_module_version": "1.5.0",
            "_view_name": "ProgressView",
            "bar_style": "success",
            "description": "",
            "description_tooltip": null,
            "layout": "IPY_MODEL_39ce88d23ec74f429732246b0aa2d684",
            "max": 548105171,
            "min": 0,
            "orientation": "horizontal",
            "style": "IPY_MODEL_ab25a87c28f7402785a026a4e6739ba5",
            "value": 548105171
          }
        },
        "9b90b48dd33848c78f9276b0c0021dad": {
          "model_module": "@jupyter-widgets/controls",
          "model_name": "HTMLModel",
          "model_module_version": "1.5.0",
          "state": {
            "_dom_classes": [],
            "_model_module": "@jupyter-widgets/controls",
            "_model_module_version": "1.5.0",
            "_model_name": "HTMLModel",
            "_view_count": null,
            "_view_module": "@jupyter-widgets/controls",
            "_view_module_version": "1.5.0",
            "_view_name": "HTMLView",
            "description": "",
            "description_tooltip": null,
            "layout": "IPY_MODEL_f3408a18a387465fada1cb918d831085",
            "placeholder": "​",
            "style": "IPY_MODEL_d94f68a71333473ba645bcc0d21a0ac2",
            "value": " 548M/548M [00:06&lt;00:00, 91.2MB/s]"
          }
        },
        "dcda4b279bd84985a0cdc1db0e02348d": {
          "model_module": "@jupyter-widgets/base",
          "model_name": "LayoutModel",
          "model_module_version": "1.2.0",
          "state": {
            "_model_module": "@jupyter-widgets/base",
            "_model_module_version": "1.2.0",
            "_model_name": "LayoutModel",
            "_view_count": null,
            "_view_module": "@jupyter-widgets/base",
            "_view_module_version": "1.2.0",
            "_view_name": "LayoutView",
            "align_content": null,
            "align_items": null,
            "align_self": null,
            "border": null,
            "bottom": null,
            "display": null,
            "flex": null,
            "flex_flow": null,
            "grid_area": null,
            "grid_auto_columns": null,
            "grid_auto_flow": null,
            "grid_auto_rows": null,
            "grid_column": null,
            "grid_gap": null,
            "grid_row": null,
            "grid_template_areas": null,
            "grid_template_columns": null,
            "grid_template_rows": null,
            "height": null,
            "justify_content": null,
            "justify_items": null,
            "left": null,
            "margin": null,
            "max_height": null,
            "max_width": null,
            "min_height": null,
            "min_width": null,
            "object_fit": null,
            "object_position": null,
            "order": null,
            "overflow": null,
            "overflow_x": null,
            "overflow_y": null,
            "padding": null,
            "right": null,
            "top": null,
            "visibility": null,
            "width": null
          }
        },
        "89ade74f09c64ae4bf0b9f68cff32f0f": {
          "model_module": "@jupyter-widgets/base",
          "model_name": "LayoutModel",
          "model_module_version": "1.2.0",
          "state": {
            "_model_module": "@jupyter-widgets/base",
            "_model_module_version": "1.2.0",
            "_model_name": "LayoutModel",
            "_view_count": null,
            "_view_module": "@jupyter-widgets/base",
            "_view_module_version": "1.2.0",
            "_view_name": "LayoutView",
            "align_content": null,
            "align_items": null,
            "align_self": null,
            "border": null,
            "bottom": null,
            "display": null,
            "flex": null,
            "flex_flow": null,
            "grid_area": null,
            "grid_auto_columns": null,
            "grid_auto_flow": null,
            "grid_auto_rows": null,
            "grid_column": null,
            "grid_gap": null,
            "grid_row": null,
            "grid_template_areas": null,
            "grid_template_columns": null,
            "grid_template_rows": null,
            "height": null,
            "justify_content": null,
            "justify_items": null,
            "left": null,
            "margin": null,
            "max_height": null,
            "max_width": null,
            "min_height": null,
            "min_width": null,
            "object_fit": null,
            "object_position": null,
            "order": null,
            "overflow": null,
            "overflow_x": null,
            "overflow_y": null,
            "padding": null,
            "right": null,
            "top": null,
            "visibility": null,
            "width": null
          }
        },
        "3b3278609f4043db88f88b8936272cf3": {
          "model_module": "@jupyter-widgets/controls",
          "model_name": "DescriptionStyleModel",
          "model_module_version": "1.5.0",
          "state": {
            "_model_module": "@jupyter-widgets/controls",
            "_model_module_version": "1.5.0",
            "_model_name": "DescriptionStyleModel",
            "_view_count": null,
            "_view_module": "@jupyter-widgets/base",
            "_view_module_version": "1.2.0",
            "_view_name": "StyleView",
            "description_width": ""
          }
        },
        "39ce88d23ec74f429732246b0aa2d684": {
          "model_module": "@jupyter-widgets/base",
          "model_name": "LayoutModel",
          "model_module_version": "1.2.0",
          "state": {
            "_model_module": "@jupyter-widgets/base",
            "_model_module_version": "1.2.0",
            "_model_name": "LayoutModel",
            "_view_count": null,
            "_view_module": "@jupyter-widgets/base",
            "_view_module_version": "1.2.0",
            "_view_name": "LayoutView",
            "align_content": null,
            "align_items": null,
            "align_self": null,
            "border": null,
            "bottom": null,
            "display": null,
            "flex": null,
            "flex_flow": null,
            "grid_area": null,
            "grid_auto_columns": null,
            "grid_auto_flow": null,
            "grid_auto_rows": null,
            "grid_column": null,
            "grid_gap": null,
            "grid_row": null,
            "grid_template_areas": null,
            "grid_template_columns": null,
            "grid_template_rows": null,
            "height": null,
            "justify_content": null,
            "justify_items": null,
            "left": null,
            "margin": null,
            "max_height": null,
            "max_width": null,
            "min_height": null,
            "min_width": null,
            "object_fit": null,
            "object_position": null,
            "order": null,
            "overflow": null,
            "overflow_x": null,
            "overflow_y": null,
            "padding": null,
            "right": null,
            "top": null,
            "visibility": null,
            "width": null
          }
        },
        "ab25a87c28f7402785a026a4e6739ba5": {
          "model_module": "@jupyter-widgets/controls",
          "model_name": "ProgressStyleModel",
          "model_module_version": "1.5.0",
          "state": {
            "_model_module": "@jupyter-widgets/controls",
            "_model_module_version": "1.5.0",
            "_model_name": "ProgressStyleModel",
            "_view_count": null,
            "_view_module": "@jupyter-widgets/base",
            "_view_module_version": "1.2.0",
            "_view_name": "StyleView",
            "bar_color": null,
            "description_width": ""
          }
        },
        "f3408a18a387465fada1cb918d831085": {
          "model_module": "@jupyter-widgets/base",
          "model_name": "LayoutModel",
          "model_module_version": "1.2.0",
          "state": {
            "_model_module": "@jupyter-widgets/base",
            "_model_module_version": "1.2.0",
            "_model_name": "LayoutModel",
            "_view_count": null,
            "_view_module": "@jupyter-widgets/base",
            "_view_module_version": "1.2.0",
            "_view_name": "LayoutView",
            "align_content": null,
            "align_items": null,
            "align_self": null,
            "border": null,
            "bottom": null,
            "display": null,
            "flex": null,
            "flex_flow": null,
            "grid_area": null,
            "grid_auto_columns": null,
            "grid_auto_flow": null,
            "grid_auto_rows": null,
            "grid_column": null,
            "grid_gap": null,
            "grid_row": null,
            "grid_template_areas": null,
            "grid_template_columns": null,
            "grid_template_rows": null,
            "height": null,
            "justify_content": null,
            "justify_items": null,
            "left": null,
            "margin": null,
            "max_height": null,
            "max_width": null,
            "min_height": null,
            "min_width": null,
            "object_fit": null,
            "object_position": null,
            "order": null,
            "overflow": null,
            "overflow_x": null,
            "overflow_y": null,
            "padding": null,
            "right": null,
            "top": null,
            "visibility": null,
            "width": null
          }
        },
        "d94f68a71333473ba645bcc0d21a0ac2": {
          "model_module": "@jupyter-widgets/controls",
          "model_name": "DescriptionStyleModel",
          "model_module_version": "1.5.0",
          "state": {
            "_model_module": "@jupyter-widgets/controls",
            "_model_module_version": "1.5.0",
            "_model_name": "DescriptionStyleModel",
            "_view_count": null,
            "_view_module": "@jupyter-widgets/base",
            "_view_module_version": "1.2.0",
            "_view_name": "StyleView",
            "description_width": ""
          }
        },
        "da2f644757474d26b7579fbbb3ad0afc": {
          "model_module": "@jupyter-widgets/controls",
          "model_name": "HBoxModel",
          "model_module_version": "1.5.0",
          "state": {
            "_dom_classes": [],
            "_model_module": "@jupyter-widgets/controls",
            "_model_module_version": "1.5.0",
            "_model_name": "HBoxModel",
            "_view_count": null,
            "_view_module": "@jupyter-widgets/controls",
            "_view_module_version": "1.5.0",
            "_view_name": "HBoxView",
            "box_style": "",
            "children": [
              "IPY_MODEL_e0086c553d2e4165b2891e4523cef09f",
              "IPY_MODEL_0fe0c46dcc8f43fa8021114c46d4b7b6",
              "IPY_MODEL_118366e0162141cca234d01b58928910"
            ],
            "layout": "IPY_MODEL_ee3d96c21aa2429f9acf60b7c3ab0d7c"
          }
        },
        "e0086c553d2e4165b2891e4523cef09f": {
          "model_module": "@jupyter-widgets/controls",
          "model_name": "HTMLModel",
          "model_module_version": "1.5.0",
          "state": {
            "_dom_classes": [],
            "_model_module": "@jupyter-widgets/controls",
            "_model_module_version": "1.5.0",
            "_model_name": "HTMLModel",
            "_view_count": null,
            "_view_module": "@jupyter-widgets/controls",
            "_view_module_version": "1.5.0",
            "_view_name": "HTMLView",
            "description": "",
            "description_tooltip": null,
            "layout": "IPY_MODEL_759e9223b3974fe1b3576930beb38d2d",
            "placeholder": "​",
            "style": "IPY_MODEL_a0dfb79fd9a0468592f82e3f3f4043e8",
            "value": "generation_config.json: 100%"
          }
        },
        "0fe0c46dcc8f43fa8021114c46d4b7b6": {
          "model_module": "@jupyter-widgets/controls",
          "model_name": "FloatProgressModel",
          "model_module_version": "1.5.0",
          "state": {
            "_dom_classes": [],
            "_model_module": "@jupyter-widgets/controls",
            "_model_module_version": "1.5.0",
            "_model_name": "FloatProgressModel",
            "_view_count": null,
            "_view_module": "@jupyter-widgets/controls",
            "_view_module_version": "1.5.0",
            "_view_name": "ProgressView",
            "bar_style": "success",
            "description": "",
            "description_tooltip": null,
            "layout": "IPY_MODEL_45be29ad8d404d78b376cd383bb059a1",
            "max": 124,
            "min": 0,
            "orientation": "horizontal",
            "style": "IPY_MODEL_098c41087d424cc595e1802848242f3d",
            "value": 124
          }
        },
        "118366e0162141cca234d01b58928910": {
          "model_module": "@jupyter-widgets/controls",
          "model_name": "HTMLModel",
          "model_module_version": "1.5.0",
          "state": {
            "_dom_classes": [],
            "_model_module": "@jupyter-widgets/controls",
            "_model_module_version": "1.5.0",
            "_model_name": "HTMLModel",
            "_view_count": null,
            "_view_module": "@jupyter-widgets/controls",
            "_view_module_version": "1.5.0",
            "_view_name": "HTMLView",
            "description": "",
            "description_tooltip": null,
            "layout": "IPY_MODEL_354f9fecd6a742bda44aea586f18a1e2",
            "placeholder": "​",
            "style": "IPY_MODEL_7bb1574e3c744cc3947faf976771d0a0",
            "value": " 124/124 [00:00&lt;00:00, 7.81kB/s]"
          }
        },
        "ee3d96c21aa2429f9acf60b7c3ab0d7c": {
          "model_module": "@jupyter-widgets/base",
          "model_name": "LayoutModel",
          "model_module_version": "1.2.0",
          "state": {
            "_model_module": "@jupyter-widgets/base",
            "_model_module_version": "1.2.0",
            "_model_name": "LayoutModel",
            "_view_count": null,
            "_view_module": "@jupyter-widgets/base",
            "_view_module_version": "1.2.0",
            "_view_name": "LayoutView",
            "align_content": null,
            "align_items": null,
            "align_self": null,
            "border": null,
            "bottom": null,
            "display": null,
            "flex": null,
            "flex_flow": null,
            "grid_area": null,
            "grid_auto_columns": null,
            "grid_auto_flow": null,
            "grid_auto_rows": null,
            "grid_column": null,
            "grid_gap": null,
            "grid_row": null,
            "grid_template_areas": null,
            "grid_template_columns": null,
            "grid_template_rows": null,
            "height": null,
            "justify_content": null,
            "justify_items": null,
            "left": null,
            "margin": null,
            "max_height": null,
            "max_width": null,
            "min_height": null,
            "min_width": null,
            "object_fit": null,
            "object_position": null,
            "order": null,
            "overflow": null,
            "overflow_x": null,
            "overflow_y": null,
            "padding": null,
            "right": null,
            "top": null,
            "visibility": null,
            "width": null
          }
        },
        "759e9223b3974fe1b3576930beb38d2d": {
          "model_module": "@jupyter-widgets/base",
          "model_name": "LayoutModel",
          "model_module_version": "1.2.0",
          "state": {
            "_model_module": "@jupyter-widgets/base",
            "_model_module_version": "1.2.0",
            "_model_name": "LayoutModel",
            "_view_count": null,
            "_view_module": "@jupyter-widgets/base",
            "_view_module_version": "1.2.0",
            "_view_name": "LayoutView",
            "align_content": null,
            "align_items": null,
            "align_self": null,
            "border": null,
            "bottom": null,
            "display": null,
            "flex": null,
            "flex_flow": null,
            "grid_area": null,
            "grid_auto_columns": null,
            "grid_auto_flow": null,
            "grid_auto_rows": null,
            "grid_column": null,
            "grid_gap": null,
            "grid_row": null,
            "grid_template_areas": null,
            "grid_template_columns": null,
            "grid_template_rows": null,
            "height": null,
            "justify_content": null,
            "justify_items": null,
            "left": null,
            "margin": null,
            "max_height": null,
            "max_width": null,
            "min_height": null,
            "min_width": null,
            "object_fit": null,
            "object_position": null,
            "order": null,
            "overflow": null,
            "overflow_x": null,
            "overflow_y": null,
            "padding": null,
            "right": null,
            "top": null,
            "visibility": null,
            "width": null
          }
        },
        "a0dfb79fd9a0468592f82e3f3f4043e8": {
          "model_module": "@jupyter-widgets/controls",
          "model_name": "DescriptionStyleModel",
          "model_module_version": "1.5.0",
          "state": {
            "_model_module": "@jupyter-widgets/controls",
            "_model_module_version": "1.5.0",
            "_model_name": "DescriptionStyleModel",
            "_view_count": null,
            "_view_module": "@jupyter-widgets/base",
            "_view_module_version": "1.2.0",
            "_view_name": "StyleView",
            "description_width": ""
          }
        },
        "45be29ad8d404d78b376cd383bb059a1": {
          "model_module": "@jupyter-widgets/base",
          "model_name": "LayoutModel",
          "model_module_version": "1.2.0",
          "state": {
            "_model_module": "@jupyter-widgets/base",
            "_model_module_version": "1.2.0",
            "_model_name": "LayoutModel",
            "_view_count": null,
            "_view_module": "@jupyter-widgets/base",
            "_view_module_version": "1.2.0",
            "_view_name": "LayoutView",
            "align_content": null,
            "align_items": null,
            "align_self": null,
            "border": null,
            "bottom": null,
            "display": null,
            "flex": null,
            "flex_flow": null,
            "grid_area": null,
            "grid_auto_columns": null,
            "grid_auto_flow": null,
            "grid_auto_rows": null,
            "grid_column": null,
            "grid_gap": null,
            "grid_row": null,
            "grid_template_areas": null,
            "grid_template_columns": null,
            "grid_template_rows": null,
            "height": null,
            "justify_content": null,
            "justify_items": null,
            "left": null,
            "margin": null,
            "max_height": null,
            "max_width": null,
            "min_height": null,
            "min_width": null,
            "object_fit": null,
            "object_position": null,
            "order": null,
            "overflow": null,
            "overflow_x": null,
            "overflow_y": null,
            "padding": null,
            "right": null,
            "top": null,
            "visibility": null,
            "width": null
          }
        },
        "098c41087d424cc595e1802848242f3d": {
          "model_module": "@jupyter-widgets/controls",
          "model_name": "ProgressStyleModel",
          "model_module_version": "1.5.0",
          "state": {
            "_model_module": "@jupyter-widgets/controls",
            "_model_module_version": "1.5.0",
            "_model_name": "ProgressStyleModel",
            "_view_count": null,
            "_view_module": "@jupyter-widgets/base",
            "_view_module_version": "1.2.0",
            "_view_name": "StyleView",
            "bar_color": null,
            "description_width": ""
          }
        },
        "354f9fecd6a742bda44aea586f18a1e2": {
          "model_module": "@jupyter-widgets/base",
          "model_name": "LayoutModel",
          "model_module_version": "1.2.0",
          "state": {
            "_model_module": "@jupyter-widgets/base",
            "_model_module_version": "1.2.0",
            "_model_name": "LayoutModel",
            "_view_count": null,
            "_view_module": "@jupyter-widgets/base",
            "_view_module_version": "1.2.0",
            "_view_name": "LayoutView",
            "align_content": null,
            "align_items": null,
            "align_self": null,
            "border": null,
            "bottom": null,
            "display": null,
            "flex": null,
            "flex_flow": null,
            "grid_area": null,
            "grid_auto_columns": null,
            "grid_auto_flow": null,
            "grid_auto_rows": null,
            "grid_column": null,
            "grid_gap": null,
            "grid_row": null,
            "grid_template_areas": null,
            "grid_template_columns": null,
            "grid_template_rows": null,
            "height": null,
            "justify_content": null,
            "justify_items": null,
            "left": null,
            "margin": null,
            "max_height": null,
            "max_width": null,
            "min_height": null,
            "min_width": null,
            "object_fit": null,
            "object_position": null,
            "order": null,
            "overflow": null,
            "overflow_x": null,
            "overflow_y": null,
            "padding": null,
            "right": null,
            "top": null,
            "visibility": null,
            "width": null
          }
        },
        "7bb1574e3c744cc3947faf976771d0a0": {
          "model_module": "@jupyter-widgets/controls",
          "model_name": "DescriptionStyleModel",
          "model_module_version": "1.5.0",
          "state": {
            "_model_module": "@jupyter-widgets/controls",
            "_model_module_version": "1.5.0",
            "_model_name": "DescriptionStyleModel",
            "_view_count": null,
            "_view_module": "@jupyter-widgets/base",
            "_view_module_version": "1.2.0",
            "_view_name": "StyleView",
            "description_width": ""
          }
        },
        "be171f35a9e848d4a3b56b26b753a012": {
          "model_module": "@jupyter-widgets/controls",
          "model_name": "HBoxModel",
          "model_module_version": "1.5.0",
          "state": {
            "_dom_classes": [],
            "_model_module": "@jupyter-widgets/controls",
            "_model_module_version": "1.5.0",
            "_model_name": "HBoxModel",
            "_view_count": null,
            "_view_module": "@jupyter-widgets/controls",
            "_view_module_version": "1.5.0",
            "_view_name": "HBoxView",
            "box_style": "",
            "children": [
              "IPY_MODEL_59dd86b14fa64806b615eac2fe6b0673",
              "IPY_MODEL_0d72ae1e16ae45ca9782d720b0db666d",
              "IPY_MODEL_982c00f5ad4b48d994d2cc94ef7ea3bc"
            ],
            "layout": "IPY_MODEL_cfe119bc6d904fcf945c55e58f8cb070"
          }
        },
        "59dd86b14fa64806b615eac2fe6b0673": {
          "model_module": "@jupyter-widgets/controls",
          "model_name": "HTMLModel",
          "model_module_version": "1.5.0",
          "state": {
            "_dom_classes": [],
            "_model_module": "@jupyter-widgets/controls",
            "_model_module_version": "1.5.0",
            "_model_name": "HTMLModel",
            "_view_count": null,
            "_view_module": "@jupyter-widgets/controls",
            "_view_module_version": "1.5.0",
            "_view_name": "HTMLView",
            "description": "",
            "description_tooltip": null,
            "layout": "IPY_MODEL_060ad55ba4df4b92a74140a2d28ae8d3",
            "placeholder": "​",
            "style": "IPY_MODEL_e6e8955ee7a346438c6ec7d2b30e749e",
            "value": "tokenizer_config.json: 100%"
          }
        },
        "0d72ae1e16ae45ca9782d720b0db666d": {
          "model_module": "@jupyter-widgets/controls",
          "model_name": "FloatProgressModel",
          "model_module_version": "1.5.0",
          "state": {
            "_dom_classes": [],
            "_model_module": "@jupyter-widgets/controls",
            "_model_module_version": "1.5.0",
            "_model_name": "FloatProgressModel",
            "_view_count": null,
            "_view_module": "@jupyter-widgets/controls",
            "_view_module_version": "1.5.0",
            "_view_name": "ProgressView",
            "bar_style": "success",
            "description": "",
            "description_tooltip": null,
            "layout": "IPY_MODEL_7040be3eb1774ded803585cce297616a",
            "max": 26,
            "min": 0,
            "orientation": "horizontal",
            "style": "IPY_MODEL_de77833a6192438aa5d9145c6f919c9e",
            "value": 26
          }
        },
        "982c00f5ad4b48d994d2cc94ef7ea3bc": {
          "model_module": "@jupyter-widgets/controls",
          "model_name": "HTMLModel",
          "model_module_version": "1.5.0",
          "state": {
            "_dom_classes": [],
            "_model_module": "@jupyter-widgets/controls",
            "_model_module_version": "1.5.0",
            "_model_name": "HTMLModel",
            "_view_count": null,
            "_view_module": "@jupyter-widgets/controls",
            "_view_module_version": "1.5.0",
            "_view_name": "HTMLView",
            "description": "",
            "description_tooltip": null,
            "layout": "IPY_MODEL_c94598b1f506440fbfdbd597a0861de4",
            "placeholder": "​",
            "style": "IPY_MODEL_70df8f033ead4c668d08422603d3d663",
            "value": " 26.0/26.0 [00:00&lt;00:00, 923B/s]"
          }
        },
        "cfe119bc6d904fcf945c55e58f8cb070": {
          "model_module": "@jupyter-widgets/base",
          "model_name": "LayoutModel",
          "model_module_version": "1.2.0",
          "state": {
            "_model_module": "@jupyter-widgets/base",
            "_model_module_version": "1.2.0",
            "_model_name": "LayoutModel",
            "_view_count": null,
            "_view_module": "@jupyter-widgets/base",
            "_view_module_version": "1.2.0",
            "_view_name": "LayoutView",
            "align_content": null,
            "align_items": null,
            "align_self": null,
            "border": null,
            "bottom": null,
            "display": null,
            "flex": null,
            "flex_flow": null,
            "grid_area": null,
            "grid_auto_columns": null,
            "grid_auto_flow": null,
            "grid_auto_rows": null,
            "grid_column": null,
            "grid_gap": null,
            "grid_row": null,
            "grid_template_areas": null,
            "grid_template_columns": null,
            "grid_template_rows": null,
            "height": null,
            "justify_content": null,
            "justify_items": null,
            "left": null,
            "margin": null,
            "max_height": null,
            "max_width": null,
            "min_height": null,
            "min_width": null,
            "object_fit": null,
            "object_position": null,
            "order": null,
            "overflow": null,
            "overflow_x": null,
            "overflow_y": null,
            "padding": null,
            "right": null,
            "top": null,
            "visibility": null,
            "width": null
          }
        },
        "060ad55ba4df4b92a74140a2d28ae8d3": {
          "model_module": "@jupyter-widgets/base",
          "model_name": "LayoutModel",
          "model_module_version": "1.2.0",
          "state": {
            "_model_module": "@jupyter-widgets/base",
            "_model_module_version": "1.2.0",
            "_model_name": "LayoutModel",
            "_view_count": null,
            "_view_module": "@jupyter-widgets/base",
            "_view_module_version": "1.2.0",
            "_view_name": "LayoutView",
            "align_content": null,
            "align_items": null,
            "align_self": null,
            "border": null,
            "bottom": null,
            "display": null,
            "flex": null,
            "flex_flow": null,
            "grid_area": null,
            "grid_auto_columns": null,
            "grid_auto_flow": null,
            "grid_auto_rows": null,
            "grid_column": null,
            "grid_gap": null,
            "grid_row": null,
            "grid_template_areas": null,
            "grid_template_columns": null,
            "grid_template_rows": null,
            "height": null,
            "justify_content": null,
            "justify_items": null,
            "left": null,
            "margin": null,
            "max_height": null,
            "max_width": null,
            "min_height": null,
            "min_width": null,
            "object_fit": null,
            "object_position": null,
            "order": null,
            "overflow": null,
            "overflow_x": null,
            "overflow_y": null,
            "padding": null,
            "right": null,
            "top": null,
            "visibility": null,
            "width": null
          }
        },
        "e6e8955ee7a346438c6ec7d2b30e749e": {
          "model_module": "@jupyter-widgets/controls",
          "model_name": "DescriptionStyleModel",
          "model_module_version": "1.5.0",
          "state": {
            "_model_module": "@jupyter-widgets/controls",
            "_model_module_version": "1.5.0",
            "_model_name": "DescriptionStyleModel",
            "_view_count": null,
            "_view_module": "@jupyter-widgets/base",
            "_view_module_version": "1.2.0",
            "_view_name": "StyleView",
            "description_width": ""
          }
        },
        "7040be3eb1774ded803585cce297616a": {
          "model_module": "@jupyter-widgets/base",
          "model_name": "LayoutModel",
          "model_module_version": "1.2.0",
          "state": {
            "_model_module": "@jupyter-widgets/base",
            "_model_module_version": "1.2.0",
            "_model_name": "LayoutModel",
            "_view_count": null,
            "_view_module": "@jupyter-widgets/base",
            "_view_module_version": "1.2.0",
            "_view_name": "LayoutView",
            "align_content": null,
            "align_items": null,
            "align_self": null,
            "border": null,
            "bottom": null,
            "display": null,
            "flex": null,
            "flex_flow": null,
            "grid_area": null,
            "grid_auto_columns": null,
            "grid_auto_flow": null,
            "grid_auto_rows": null,
            "grid_column": null,
            "grid_gap": null,
            "grid_row": null,
            "grid_template_areas": null,
            "grid_template_columns": null,
            "grid_template_rows": null,
            "height": null,
            "justify_content": null,
            "justify_items": null,
            "left": null,
            "margin": null,
            "max_height": null,
            "max_width": null,
            "min_height": null,
            "min_width": null,
            "object_fit": null,
            "object_position": null,
            "order": null,
            "overflow": null,
            "overflow_x": null,
            "overflow_y": null,
            "padding": null,
            "right": null,
            "top": null,
            "visibility": null,
            "width": null
          }
        },
        "de77833a6192438aa5d9145c6f919c9e": {
          "model_module": "@jupyter-widgets/controls",
          "model_name": "ProgressStyleModel",
          "model_module_version": "1.5.0",
          "state": {
            "_model_module": "@jupyter-widgets/controls",
            "_model_module_version": "1.5.0",
            "_model_name": "ProgressStyleModel",
            "_view_count": null,
            "_view_module": "@jupyter-widgets/base",
            "_view_module_version": "1.2.0",
            "_view_name": "StyleView",
            "bar_color": null,
            "description_width": ""
          }
        },
        "c94598b1f506440fbfdbd597a0861de4": {
          "model_module": "@jupyter-widgets/base",
          "model_name": "LayoutModel",
          "model_module_version": "1.2.0",
          "state": {
            "_model_module": "@jupyter-widgets/base",
            "_model_module_version": "1.2.0",
            "_model_name": "LayoutModel",
            "_view_count": null,
            "_view_module": "@jupyter-widgets/base",
            "_view_module_version": "1.2.0",
            "_view_name": "LayoutView",
            "align_content": null,
            "align_items": null,
            "align_self": null,
            "border": null,
            "bottom": null,
            "display": null,
            "flex": null,
            "flex_flow": null,
            "grid_area": null,
            "grid_auto_columns": null,
            "grid_auto_flow": null,
            "grid_auto_rows": null,
            "grid_column": null,
            "grid_gap": null,
            "grid_row": null,
            "grid_template_areas": null,
            "grid_template_columns": null,
            "grid_template_rows": null,
            "height": null,
            "justify_content": null,
            "justify_items": null,
            "left": null,
            "margin": null,
            "max_height": null,
            "max_width": null,
            "min_height": null,
            "min_width": null,
            "object_fit": null,
            "object_position": null,
            "order": null,
            "overflow": null,
            "overflow_x": null,
            "overflow_y": null,
            "padding": null,
            "right": null,
            "top": null,
            "visibility": null,
            "width": null
          }
        },
        "70df8f033ead4c668d08422603d3d663": {
          "model_module": "@jupyter-widgets/controls",
          "model_name": "DescriptionStyleModel",
          "model_module_version": "1.5.0",
          "state": {
            "_model_module": "@jupyter-widgets/controls",
            "_model_module_version": "1.5.0",
            "_model_name": "DescriptionStyleModel",
            "_view_count": null,
            "_view_module": "@jupyter-widgets/base",
            "_view_module_version": "1.2.0",
            "_view_name": "StyleView",
            "description_width": ""
          }
        },
        "be154cce7b0543f98b699d8169633e5f": {
          "model_module": "@jupyter-widgets/controls",
          "model_name": "HBoxModel",
          "model_module_version": "1.5.0",
          "state": {
            "_dom_classes": [],
            "_model_module": "@jupyter-widgets/controls",
            "_model_module_version": "1.5.0",
            "_model_name": "HBoxModel",
            "_view_count": null,
            "_view_module": "@jupyter-widgets/controls",
            "_view_module_version": "1.5.0",
            "_view_name": "HBoxView",
            "box_style": "",
            "children": [
              "IPY_MODEL_3bc0de0e83114875b00f153116db19f7",
              "IPY_MODEL_fc44e177dcd546b58d2687e64a5bb854",
              "IPY_MODEL_efedee1bbe52463783b7bc758d897939"
            ],
            "layout": "IPY_MODEL_c706b890f2184deaa706d738f2f60179"
          }
        },
        "3bc0de0e83114875b00f153116db19f7": {
          "model_module": "@jupyter-widgets/controls",
          "model_name": "HTMLModel",
          "model_module_version": "1.5.0",
          "state": {
            "_dom_classes": [],
            "_model_module": "@jupyter-widgets/controls",
            "_model_module_version": "1.5.0",
            "_model_name": "HTMLModel",
            "_view_count": null,
            "_view_module": "@jupyter-widgets/controls",
            "_view_module_version": "1.5.0",
            "_view_name": "HTMLView",
            "description": "",
            "description_tooltip": null,
            "layout": "IPY_MODEL_22d5aa3df55845a1b6bf86b1cb1dd3b7",
            "placeholder": "​",
            "style": "IPY_MODEL_1b647f7d751d46faa16db66bc39a68ee",
            "value": "vocab.json: 100%"
          }
        },
        "fc44e177dcd546b58d2687e64a5bb854": {
          "model_module": "@jupyter-widgets/controls",
          "model_name": "FloatProgressModel",
          "model_module_version": "1.5.0",
          "state": {
            "_dom_classes": [],
            "_model_module": "@jupyter-widgets/controls",
            "_model_module_version": "1.5.0",
            "_model_name": "FloatProgressModel",
            "_view_count": null,
            "_view_module": "@jupyter-widgets/controls",
            "_view_module_version": "1.5.0",
            "_view_name": "ProgressView",
            "bar_style": "success",
            "description": "",
            "description_tooltip": null,
            "layout": "IPY_MODEL_480d5a3e431947e1b1079a0b7d71be48",
            "max": 1042301,
            "min": 0,
            "orientation": "horizontal",
            "style": "IPY_MODEL_ac4f32dc5e0d45a4aa8b93c282976654",
            "value": 1042301
          }
        },
        "efedee1bbe52463783b7bc758d897939": {
          "model_module": "@jupyter-widgets/controls",
          "model_name": "HTMLModel",
          "model_module_version": "1.5.0",
          "state": {
            "_dom_classes": [],
            "_model_module": "@jupyter-widgets/controls",
            "_model_module_version": "1.5.0",
            "_model_name": "HTMLModel",
            "_view_count": null,
            "_view_module": "@jupyter-widgets/controls",
            "_view_module_version": "1.5.0",
            "_view_name": "HTMLView",
            "description": "",
            "description_tooltip": null,
            "layout": "IPY_MODEL_78e288aea4f243419630007203cc78cd",
            "placeholder": "​",
            "style": "IPY_MODEL_f5901a690e7d45ce990caee69e2b528c",
            "value": " 1.04M/1.04M [00:00&lt;00:00, 4.04MB/s]"
          }
        },
        "c706b890f2184deaa706d738f2f60179": {
          "model_module": "@jupyter-widgets/base",
          "model_name": "LayoutModel",
          "model_module_version": "1.2.0",
          "state": {
            "_model_module": "@jupyter-widgets/base",
            "_model_module_version": "1.2.0",
            "_model_name": "LayoutModel",
            "_view_count": null,
            "_view_module": "@jupyter-widgets/base",
            "_view_module_version": "1.2.0",
            "_view_name": "LayoutView",
            "align_content": null,
            "align_items": null,
            "align_self": null,
            "border": null,
            "bottom": null,
            "display": null,
            "flex": null,
            "flex_flow": null,
            "grid_area": null,
            "grid_auto_columns": null,
            "grid_auto_flow": null,
            "grid_auto_rows": null,
            "grid_column": null,
            "grid_gap": null,
            "grid_row": null,
            "grid_template_areas": null,
            "grid_template_columns": null,
            "grid_template_rows": null,
            "height": null,
            "justify_content": null,
            "justify_items": null,
            "left": null,
            "margin": null,
            "max_height": null,
            "max_width": null,
            "min_height": null,
            "min_width": null,
            "object_fit": null,
            "object_position": null,
            "order": null,
            "overflow": null,
            "overflow_x": null,
            "overflow_y": null,
            "padding": null,
            "right": null,
            "top": null,
            "visibility": null,
            "width": null
          }
        },
        "22d5aa3df55845a1b6bf86b1cb1dd3b7": {
          "model_module": "@jupyter-widgets/base",
          "model_name": "LayoutModel",
          "model_module_version": "1.2.0",
          "state": {
            "_model_module": "@jupyter-widgets/base",
            "_model_module_version": "1.2.0",
            "_model_name": "LayoutModel",
            "_view_count": null,
            "_view_module": "@jupyter-widgets/base",
            "_view_module_version": "1.2.0",
            "_view_name": "LayoutView",
            "align_content": null,
            "align_items": null,
            "align_self": null,
            "border": null,
            "bottom": null,
            "display": null,
            "flex": null,
            "flex_flow": null,
            "grid_area": null,
            "grid_auto_columns": null,
            "grid_auto_flow": null,
            "grid_auto_rows": null,
            "grid_column": null,
            "grid_gap": null,
            "grid_row": null,
            "grid_template_areas": null,
            "grid_template_columns": null,
            "grid_template_rows": null,
            "height": null,
            "justify_content": null,
            "justify_items": null,
            "left": null,
            "margin": null,
            "max_height": null,
            "max_width": null,
            "min_height": null,
            "min_width": null,
            "object_fit": null,
            "object_position": null,
            "order": null,
            "overflow": null,
            "overflow_x": null,
            "overflow_y": null,
            "padding": null,
            "right": null,
            "top": null,
            "visibility": null,
            "width": null
          }
        },
        "1b647f7d751d46faa16db66bc39a68ee": {
          "model_module": "@jupyter-widgets/controls",
          "model_name": "DescriptionStyleModel",
          "model_module_version": "1.5.0",
          "state": {
            "_model_module": "@jupyter-widgets/controls",
            "_model_module_version": "1.5.0",
            "_model_name": "DescriptionStyleModel",
            "_view_count": null,
            "_view_module": "@jupyter-widgets/base",
            "_view_module_version": "1.2.0",
            "_view_name": "StyleView",
            "description_width": ""
          }
        },
        "480d5a3e431947e1b1079a0b7d71be48": {
          "model_module": "@jupyter-widgets/base",
          "model_name": "LayoutModel",
          "model_module_version": "1.2.0",
          "state": {
            "_model_module": "@jupyter-widgets/base",
            "_model_module_version": "1.2.0",
            "_model_name": "LayoutModel",
            "_view_count": null,
            "_view_module": "@jupyter-widgets/base",
            "_view_module_version": "1.2.0",
            "_view_name": "LayoutView",
            "align_content": null,
            "align_items": null,
            "align_self": null,
            "border": null,
            "bottom": null,
            "display": null,
            "flex": null,
            "flex_flow": null,
            "grid_area": null,
            "grid_auto_columns": null,
            "grid_auto_flow": null,
            "grid_auto_rows": null,
            "grid_column": null,
            "grid_gap": null,
            "grid_row": null,
            "grid_template_areas": null,
            "grid_template_columns": null,
            "grid_template_rows": null,
            "height": null,
            "justify_content": null,
            "justify_items": null,
            "left": null,
            "margin": null,
            "max_height": null,
            "max_width": null,
            "min_height": null,
            "min_width": null,
            "object_fit": null,
            "object_position": null,
            "order": null,
            "overflow": null,
            "overflow_x": null,
            "overflow_y": null,
            "padding": null,
            "right": null,
            "top": null,
            "visibility": null,
            "width": null
          }
        },
        "ac4f32dc5e0d45a4aa8b93c282976654": {
          "model_module": "@jupyter-widgets/controls",
          "model_name": "ProgressStyleModel",
          "model_module_version": "1.5.0",
          "state": {
            "_model_module": "@jupyter-widgets/controls",
            "_model_module_version": "1.5.0",
            "_model_name": "ProgressStyleModel",
            "_view_count": null,
            "_view_module": "@jupyter-widgets/base",
            "_view_module_version": "1.2.0",
            "_view_name": "StyleView",
            "bar_color": null,
            "description_width": ""
          }
        },
        "78e288aea4f243419630007203cc78cd": {
          "model_module": "@jupyter-widgets/base",
          "model_name": "LayoutModel",
          "model_module_version": "1.2.0",
          "state": {
            "_model_module": "@jupyter-widgets/base",
            "_model_module_version": "1.2.0",
            "_model_name": "LayoutModel",
            "_view_count": null,
            "_view_module": "@jupyter-widgets/base",
            "_view_module_version": "1.2.0",
            "_view_name": "LayoutView",
            "align_content": null,
            "align_items": null,
            "align_self": null,
            "border": null,
            "bottom": null,
            "display": null,
            "flex": null,
            "flex_flow": null,
            "grid_area": null,
            "grid_auto_columns": null,
            "grid_auto_flow": null,
            "grid_auto_rows": null,
            "grid_column": null,
            "grid_gap": null,
            "grid_row": null,
            "grid_template_areas": null,
            "grid_template_columns": null,
            "grid_template_rows": null,
            "height": null,
            "justify_content": null,
            "justify_items": null,
            "left": null,
            "margin": null,
            "max_height": null,
            "max_width": null,
            "min_height": null,
            "min_width": null,
            "object_fit": null,
            "object_position": null,
            "order": null,
            "overflow": null,
            "overflow_x": null,
            "overflow_y": null,
            "padding": null,
            "right": null,
            "top": null,
            "visibility": null,
            "width": null
          }
        },
        "f5901a690e7d45ce990caee69e2b528c": {
          "model_module": "@jupyter-widgets/controls",
          "model_name": "DescriptionStyleModel",
          "model_module_version": "1.5.0",
          "state": {
            "_model_module": "@jupyter-widgets/controls",
            "_model_module_version": "1.5.0",
            "_model_name": "DescriptionStyleModel",
            "_view_count": null,
            "_view_module": "@jupyter-widgets/base",
            "_view_module_version": "1.2.0",
            "_view_name": "StyleView",
            "description_width": ""
          }
        },
        "2e336f4965d84527838eee1c7372a3e4": {
          "model_module": "@jupyter-widgets/controls",
          "model_name": "HBoxModel",
          "model_module_version": "1.5.0",
          "state": {
            "_dom_classes": [],
            "_model_module": "@jupyter-widgets/controls",
            "_model_module_version": "1.5.0",
            "_model_name": "HBoxModel",
            "_view_count": null,
            "_view_module": "@jupyter-widgets/controls",
            "_view_module_version": "1.5.0",
            "_view_name": "HBoxView",
            "box_style": "",
            "children": [
              "IPY_MODEL_aaffa6aaeb76455fb76e760fec0e8e39",
              "IPY_MODEL_07585e3da5a5450097695523128b2e03",
              "IPY_MODEL_317f51b0b8f9434fafd85a8d2e23176e"
            ],
            "layout": "IPY_MODEL_62f5bb994e894ca4b6ea2cd155539f9a"
          }
        },
        "aaffa6aaeb76455fb76e760fec0e8e39": {
          "model_module": "@jupyter-widgets/controls",
          "model_name": "HTMLModel",
          "model_module_version": "1.5.0",
          "state": {
            "_dom_classes": [],
            "_model_module": "@jupyter-widgets/controls",
            "_model_module_version": "1.5.0",
            "_model_name": "HTMLModel",
            "_view_count": null,
            "_view_module": "@jupyter-widgets/controls",
            "_view_module_version": "1.5.0",
            "_view_name": "HTMLView",
            "description": "",
            "description_tooltip": null,
            "layout": "IPY_MODEL_22b6321f8dd04e9bb59cd50e0999ae4f",
            "placeholder": "​",
            "style": "IPY_MODEL_fd7ef146e9f14da1aade14ebc37ccb35",
            "value": "merges.txt: 100%"
          }
        },
        "07585e3da5a5450097695523128b2e03": {
          "model_module": "@jupyter-widgets/controls",
          "model_name": "FloatProgressModel",
          "model_module_version": "1.5.0",
          "state": {
            "_dom_classes": [],
            "_model_module": "@jupyter-widgets/controls",
            "_model_module_version": "1.5.0",
            "_model_name": "FloatProgressModel",
            "_view_count": null,
            "_view_module": "@jupyter-widgets/controls",
            "_view_module_version": "1.5.0",
            "_view_name": "ProgressView",
            "bar_style": "success",
            "description": "",
            "description_tooltip": null,
            "layout": "IPY_MODEL_199b7a25a160411bbf5bec0416883350",
            "max": 456318,
            "min": 0,
            "orientation": "horizontal",
            "style": "IPY_MODEL_03b8923692444b74b1aabd16d57203f9",
            "value": 456318
          }
        },
        "317f51b0b8f9434fafd85a8d2e23176e": {
          "model_module": "@jupyter-widgets/controls",
          "model_name": "HTMLModel",
          "model_module_version": "1.5.0",
          "state": {
            "_dom_classes": [],
            "_model_module": "@jupyter-widgets/controls",
            "_model_module_version": "1.5.0",
            "_model_name": "HTMLModel",
            "_view_count": null,
            "_view_module": "@jupyter-widgets/controls",
            "_view_module_version": "1.5.0",
            "_view_name": "HTMLView",
            "description": "",
            "description_tooltip": null,
            "layout": "IPY_MODEL_5f417ff54e484ea09eb283e14ccf1b91",
            "placeholder": "​",
            "style": "IPY_MODEL_0bbf6dc5ff524e6ca22e2030663f07a2",
            "value": " 456k/456k [00:00&lt;00:00, 13.4MB/s]"
          }
        },
        "62f5bb994e894ca4b6ea2cd155539f9a": {
          "model_module": "@jupyter-widgets/base",
          "model_name": "LayoutModel",
          "model_module_version": "1.2.0",
          "state": {
            "_model_module": "@jupyter-widgets/base",
            "_model_module_version": "1.2.0",
            "_model_name": "LayoutModel",
            "_view_count": null,
            "_view_module": "@jupyter-widgets/base",
            "_view_module_version": "1.2.0",
            "_view_name": "LayoutView",
            "align_content": null,
            "align_items": null,
            "align_self": null,
            "border": null,
            "bottom": null,
            "display": null,
            "flex": null,
            "flex_flow": null,
            "grid_area": null,
            "grid_auto_columns": null,
            "grid_auto_flow": null,
            "grid_auto_rows": null,
            "grid_column": null,
            "grid_gap": null,
            "grid_row": null,
            "grid_template_areas": null,
            "grid_template_columns": null,
            "grid_template_rows": null,
            "height": null,
            "justify_content": null,
            "justify_items": null,
            "left": null,
            "margin": null,
            "max_height": null,
            "max_width": null,
            "min_height": null,
            "min_width": null,
            "object_fit": null,
            "object_position": null,
            "order": null,
            "overflow": null,
            "overflow_x": null,
            "overflow_y": null,
            "padding": null,
            "right": null,
            "top": null,
            "visibility": null,
            "width": null
          }
        },
        "22b6321f8dd04e9bb59cd50e0999ae4f": {
          "model_module": "@jupyter-widgets/base",
          "model_name": "LayoutModel",
          "model_module_version": "1.2.0",
          "state": {
            "_model_module": "@jupyter-widgets/base",
            "_model_module_version": "1.2.0",
            "_model_name": "LayoutModel",
            "_view_count": null,
            "_view_module": "@jupyter-widgets/base",
            "_view_module_version": "1.2.0",
            "_view_name": "LayoutView",
            "align_content": null,
            "align_items": null,
            "align_self": null,
            "border": null,
            "bottom": null,
            "display": null,
            "flex": null,
            "flex_flow": null,
            "grid_area": null,
            "grid_auto_columns": null,
            "grid_auto_flow": null,
            "grid_auto_rows": null,
            "grid_column": null,
            "grid_gap": null,
            "grid_row": null,
            "grid_template_areas": null,
            "grid_template_columns": null,
            "grid_template_rows": null,
            "height": null,
            "justify_content": null,
            "justify_items": null,
            "left": null,
            "margin": null,
            "max_height": null,
            "max_width": null,
            "min_height": null,
            "min_width": null,
            "object_fit": null,
            "object_position": null,
            "order": null,
            "overflow": null,
            "overflow_x": null,
            "overflow_y": null,
            "padding": null,
            "right": null,
            "top": null,
            "visibility": null,
            "width": null
          }
        },
        "fd7ef146e9f14da1aade14ebc37ccb35": {
          "model_module": "@jupyter-widgets/controls",
          "model_name": "DescriptionStyleModel",
          "model_module_version": "1.5.0",
          "state": {
            "_model_module": "@jupyter-widgets/controls",
            "_model_module_version": "1.5.0",
            "_model_name": "DescriptionStyleModel",
            "_view_count": null,
            "_view_module": "@jupyter-widgets/base",
            "_view_module_version": "1.2.0",
            "_view_name": "StyleView",
            "description_width": ""
          }
        },
        "199b7a25a160411bbf5bec0416883350": {
          "model_module": "@jupyter-widgets/base",
          "model_name": "LayoutModel",
          "model_module_version": "1.2.0",
          "state": {
            "_model_module": "@jupyter-widgets/base",
            "_model_module_version": "1.2.0",
            "_model_name": "LayoutModel",
            "_view_count": null,
            "_view_module": "@jupyter-widgets/base",
            "_view_module_version": "1.2.0",
            "_view_name": "LayoutView",
            "align_content": null,
            "align_items": null,
            "align_self": null,
            "border": null,
            "bottom": null,
            "display": null,
            "flex": null,
            "flex_flow": null,
            "grid_area": null,
            "grid_auto_columns": null,
            "grid_auto_flow": null,
            "grid_auto_rows": null,
            "grid_column": null,
            "grid_gap": null,
            "grid_row": null,
            "grid_template_areas": null,
            "grid_template_columns": null,
            "grid_template_rows": null,
            "height": null,
            "justify_content": null,
            "justify_items": null,
            "left": null,
            "margin": null,
            "max_height": null,
            "max_width": null,
            "min_height": null,
            "min_width": null,
            "object_fit": null,
            "object_position": null,
            "order": null,
            "overflow": null,
            "overflow_x": null,
            "overflow_y": null,
            "padding": null,
            "right": null,
            "top": null,
            "visibility": null,
            "width": null
          }
        },
        "03b8923692444b74b1aabd16d57203f9": {
          "model_module": "@jupyter-widgets/controls",
          "model_name": "ProgressStyleModel",
          "model_module_version": "1.5.0",
          "state": {
            "_model_module": "@jupyter-widgets/controls",
            "_model_module_version": "1.5.0",
            "_model_name": "ProgressStyleModel",
            "_view_count": null,
            "_view_module": "@jupyter-widgets/base",
            "_view_module_version": "1.2.0",
            "_view_name": "StyleView",
            "bar_color": null,
            "description_width": ""
          }
        },
        "5f417ff54e484ea09eb283e14ccf1b91": {
          "model_module": "@jupyter-widgets/base",
          "model_name": "LayoutModel",
          "model_module_version": "1.2.0",
          "state": {
            "_model_module": "@jupyter-widgets/base",
            "_model_module_version": "1.2.0",
            "_model_name": "LayoutModel",
            "_view_count": null,
            "_view_module": "@jupyter-widgets/base",
            "_view_module_version": "1.2.0",
            "_view_name": "LayoutView",
            "align_content": null,
            "align_items": null,
            "align_self": null,
            "border": null,
            "bottom": null,
            "display": null,
            "flex": null,
            "flex_flow": null,
            "grid_area": null,
            "grid_auto_columns": null,
            "grid_auto_flow": null,
            "grid_auto_rows": null,
            "grid_column": null,
            "grid_gap": null,
            "grid_row": null,
            "grid_template_areas": null,
            "grid_template_columns": null,
            "grid_template_rows": null,
            "height": null,
            "justify_content": null,
            "justify_items": null,
            "left": null,
            "margin": null,
            "max_height": null,
            "max_width": null,
            "min_height": null,
            "min_width": null,
            "object_fit": null,
            "object_position": null,
            "order": null,
            "overflow": null,
            "overflow_x": null,
            "overflow_y": null,
            "padding": null,
            "right": null,
            "top": null,
            "visibility": null,
            "width": null
          }
        },
        "0bbf6dc5ff524e6ca22e2030663f07a2": {
          "model_module": "@jupyter-widgets/controls",
          "model_name": "DescriptionStyleModel",
          "model_module_version": "1.5.0",
          "state": {
            "_model_module": "@jupyter-widgets/controls",
            "_model_module_version": "1.5.0",
            "_model_name": "DescriptionStyleModel",
            "_view_count": null,
            "_view_module": "@jupyter-widgets/base",
            "_view_module_version": "1.2.0",
            "_view_name": "StyleView",
            "description_width": ""
          }
        },
        "c1e0d98eebe14b7a8a3867ee59c4fb8a": {
          "model_module": "@jupyter-widgets/controls",
          "model_name": "HBoxModel",
          "model_module_version": "1.5.0",
          "state": {
            "_dom_classes": [],
            "_model_module": "@jupyter-widgets/controls",
            "_model_module_version": "1.5.0",
            "_model_name": "HBoxModel",
            "_view_count": null,
            "_view_module": "@jupyter-widgets/controls",
            "_view_module_version": "1.5.0",
            "_view_name": "HBoxView",
            "box_style": "",
            "children": [
              "IPY_MODEL_8bbb9f5378ab4ef2a493f2383816803a",
              "IPY_MODEL_fb21847e873945db8626db9c6ec20025",
              "IPY_MODEL_c2d5c9649dec49f1b426787f368afb4c"
            ],
            "layout": "IPY_MODEL_5098679b6b7d4a3cb073d4b94b842354"
          }
        },
        "8bbb9f5378ab4ef2a493f2383816803a": {
          "model_module": "@jupyter-widgets/controls",
          "model_name": "HTMLModel",
          "model_module_version": "1.5.0",
          "state": {
            "_dom_classes": [],
            "_model_module": "@jupyter-widgets/controls",
            "_model_module_version": "1.5.0",
            "_model_name": "HTMLModel",
            "_view_count": null,
            "_view_module": "@jupyter-widgets/controls",
            "_view_module_version": "1.5.0",
            "_view_name": "HTMLView",
            "description": "",
            "description_tooltip": null,
            "layout": "IPY_MODEL_3284042b760f4e94af4c2f26691f56f6",
            "placeholder": "​",
            "style": "IPY_MODEL_598d91371e264b47885010bcd4d28bad",
            "value": "tokenizer.json: 100%"
          }
        },
        "fb21847e873945db8626db9c6ec20025": {
          "model_module": "@jupyter-widgets/controls",
          "model_name": "FloatProgressModel",
          "model_module_version": "1.5.0",
          "state": {
            "_dom_classes": [],
            "_model_module": "@jupyter-widgets/controls",
            "_model_module_version": "1.5.0",
            "_model_name": "FloatProgressModel",
            "_view_count": null,
            "_view_module": "@jupyter-widgets/controls",
            "_view_module_version": "1.5.0",
            "_view_name": "ProgressView",
            "bar_style": "success",
            "description": "",
            "description_tooltip": null,
            "layout": "IPY_MODEL_56831abf55d049e28d6a4ece04022891",
            "max": 1355256,
            "min": 0,
            "orientation": "horizontal",
            "style": "IPY_MODEL_0e827edd23164b98be9b9f2251848075",
            "value": 1355256
          }
        },
        "c2d5c9649dec49f1b426787f368afb4c": {
          "model_module": "@jupyter-widgets/controls",
          "model_name": "HTMLModel",
          "model_module_version": "1.5.0",
          "state": {
            "_dom_classes": [],
            "_model_module": "@jupyter-widgets/controls",
            "_model_module_version": "1.5.0",
            "_model_name": "HTMLModel",
            "_view_count": null,
            "_view_module": "@jupyter-widgets/controls",
            "_view_module_version": "1.5.0",
            "_view_name": "HTMLView",
            "description": "",
            "description_tooltip": null,
            "layout": "IPY_MODEL_991cfe9c8ce64a6dbd5b50c92b0d7e49",
            "placeholder": "​",
            "style": "IPY_MODEL_a69a0ba882f3485e93b75a633c43ef5f",
            "value": " 1.36M/1.36M [00:00&lt;00:00, 10.6MB/s]"
          }
        },
        "5098679b6b7d4a3cb073d4b94b842354": {
          "model_module": "@jupyter-widgets/base",
          "model_name": "LayoutModel",
          "model_module_version": "1.2.0",
          "state": {
            "_model_module": "@jupyter-widgets/base",
            "_model_module_version": "1.2.0",
            "_model_name": "LayoutModel",
            "_view_count": null,
            "_view_module": "@jupyter-widgets/base",
            "_view_module_version": "1.2.0",
            "_view_name": "LayoutView",
            "align_content": null,
            "align_items": null,
            "align_self": null,
            "border": null,
            "bottom": null,
            "display": null,
            "flex": null,
            "flex_flow": null,
            "grid_area": null,
            "grid_auto_columns": null,
            "grid_auto_flow": null,
            "grid_auto_rows": null,
            "grid_column": null,
            "grid_gap": null,
            "grid_row": null,
            "grid_template_areas": null,
            "grid_template_columns": null,
            "grid_template_rows": null,
            "height": null,
            "justify_content": null,
            "justify_items": null,
            "left": null,
            "margin": null,
            "max_height": null,
            "max_width": null,
            "min_height": null,
            "min_width": null,
            "object_fit": null,
            "object_position": null,
            "order": null,
            "overflow": null,
            "overflow_x": null,
            "overflow_y": null,
            "padding": null,
            "right": null,
            "top": null,
            "visibility": null,
            "width": null
          }
        },
        "3284042b760f4e94af4c2f26691f56f6": {
          "model_module": "@jupyter-widgets/base",
          "model_name": "LayoutModel",
          "model_module_version": "1.2.0",
          "state": {
            "_model_module": "@jupyter-widgets/base",
            "_model_module_version": "1.2.0",
            "_model_name": "LayoutModel",
            "_view_count": null,
            "_view_module": "@jupyter-widgets/base",
            "_view_module_version": "1.2.0",
            "_view_name": "LayoutView",
            "align_content": null,
            "align_items": null,
            "align_self": null,
            "border": null,
            "bottom": null,
            "display": null,
            "flex": null,
            "flex_flow": null,
            "grid_area": null,
            "grid_auto_columns": null,
            "grid_auto_flow": null,
            "grid_auto_rows": null,
            "grid_column": null,
            "grid_gap": null,
            "grid_row": null,
            "grid_template_areas": null,
            "grid_template_columns": null,
            "grid_template_rows": null,
            "height": null,
            "justify_content": null,
            "justify_items": null,
            "left": null,
            "margin": null,
            "max_height": null,
            "max_width": null,
            "min_height": null,
            "min_width": null,
            "object_fit": null,
            "object_position": null,
            "order": null,
            "overflow": null,
            "overflow_x": null,
            "overflow_y": null,
            "padding": null,
            "right": null,
            "top": null,
            "visibility": null,
            "width": null
          }
        },
        "598d91371e264b47885010bcd4d28bad": {
          "model_module": "@jupyter-widgets/controls",
          "model_name": "DescriptionStyleModel",
          "model_module_version": "1.5.0",
          "state": {
            "_model_module": "@jupyter-widgets/controls",
            "_model_module_version": "1.5.0",
            "_model_name": "DescriptionStyleModel",
            "_view_count": null,
            "_view_module": "@jupyter-widgets/base",
            "_view_module_version": "1.2.0",
            "_view_name": "StyleView",
            "description_width": ""
          }
        },
        "56831abf55d049e28d6a4ece04022891": {
          "model_module": "@jupyter-widgets/base",
          "model_name": "LayoutModel",
          "model_module_version": "1.2.0",
          "state": {
            "_model_module": "@jupyter-widgets/base",
            "_model_module_version": "1.2.0",
            "_model_name": "LayoutModel",
            "_view_count": null,
            "_view_module": "@jupyter-widgets/base",
            "_view_module_version": "1.2.0",
            "_view_name": "LayoutView",
            "align_content": null,
            "align_items": null,
            "align_self": null,
            "border": null,
            "bottom": null,
            "display": null,
            "flex": null,
            "flex_flow": null,
            "grid_area": null,
            "grid_auto_columns": null,
            "grid_auto_flow": null,
            "grid_auto_rows": null,
            "grid_column": null,
            "grid_gap": null,
            "grid_row": null,
            "grid_template_areas": null,
            "grid_template_columns": null,
            "grid_template_rows": null,
            "height": null,
            "justify_content": null,
            "justify_items": null,
            "left": null,
            "margin": null,
            "max_height": null,
            "max_width": null,
            "min_height": null,
            "min_width": null,
            "object_fit": null,
            "object_position": null,
            "order": null,
            "overflow": null,
            "overflow_x": null,
            "overflow_y": null,
            "padding": null,
            "right": null,
            "top": null,
            "visibility": null,
            "width": null
          }
        },
        "0e827edd23164b98be9b9f2251848075": {
          "model_module": "@jupyter-widgets/controls",
          "model_name": "ProgressStyleModel",
          "model_module_version": "1.5.0",
          "state": {
            "_model_module": "@jupyter-widgets/controls",
            "_model_module_version": "1.5.0",
            "_model_name": "ProgressStyleModel",
            "_view_count": null,
            "_view_module": "@jupyter-widgets/base",
            "_view_module_version": "1.2.0",
            "_view_name": "StyleView",
            "bar_color": null,
            "description_width": ""
          }
        },
        "991cfe9c8ce64a6dbd5b50c92b0d7e49": {
          "model_module": "@jupyter-widgets/base",
          "model_name": "LayoutModel",
          "model_module_version": "1.2.0",
          "state": {
            "_model_module": "@jupyter-widgets/base",
            "_model_module_version": "1.2.0",
            "_model_name": "LayoutModel",
            "_view_count": null,
            "_view_module": "@jupyter-widgets/base",
            "_view_module_version": "1.2.0",
            "_view_name": "LayoutView",
            "align_content": null,
            "align_items": null,
            "align_self": null,
            "border": null,
            "bottom": null,
            "display": null,
            "flex": null,
            "flex_flow": null,
            "grid_area": null,
            "grid_auto_columns": null,
            "grid_auto_flow": null,
            "grid_auto_rows": null,
            "grid_column": null,
            "grid_gap": null,
            "grid_row": null,
            "grid_template_areas": null,
            "grid_template_columns": null,
            "grid_template_rows": null,
            "height": null,
            "justify_content": null,
            "justify_items": null,
            "left": null,
            "margin": null,
            "max_height": null,
            "max_width": null,
            "min_height": null,
            "min_width": null,
            "object_fit": null,
            "object_position": null,
            "order": null,
            "overflow": null,
            "overflow_x": null,
            "overflow_y": null,
            "padding": null,
            "right": null,
            "top": null,
            "visibility": null,
            "width": null
          }
        },
        "a69a0ba882f3485e93b75a633c43ef5f": {
          "model_module": "@jupyter-widgets/controls",
          "model_name": "DescriptionStyleModel",
          "model_module_version": "1.5.0",
          "state": {
            "_model_module": "@jupyter-widgets/controls",
            "_model_module_version": "1.5.0",
            "_model_name": "DescriptionStyleModel",
            "_view_count": null,
            "_view_module": "@jupyter-widgets/base",
            "_view_module_version": "1.2.0",
            "_view_name": "StyleView",
            "description_width": ""
          }
        }
      }
    }
  },
  "nbformat": 4,
  "nbformat_minor": 0
}